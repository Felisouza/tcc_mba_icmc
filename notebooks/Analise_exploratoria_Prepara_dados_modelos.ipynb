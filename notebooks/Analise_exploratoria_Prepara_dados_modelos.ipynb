{
 "cells": [
  {
   "cell_type": "markdown",
   "metadata": {},
   "source": [
    "# Libs"
   ]
  },
  {
   "cell_type": "code",
   "execution_count": 1,
   "metadata": {},
   "outputs": [],
   "source": [
    "import pandas as pd\n",
    "import seaborn as sns \n",
    "import matplotlib.pyplot as plt\n",
    "import numpy as np\n",
    "from sklearn.preprocessing import OneHotEncoder\n",
    "from sklearn.preprocessing import StandardScaler\n",
    "from sklearn.preprocessing import MinMaxScaler\n",
    "import json\n",
    "import matplotlib.patheffects as PathEffects\n",
    "import matplotlib.patches as patches\n",
    "\n",
    "\n"
   ]
  },
  {
   "cell_type": "code",
   "execution_count": 2,
   "metadata": {},
   "outputs": [],
   "source": [
    "# Configurar pandas para mostrar o valor completo \n",
    "pd.set_option('display.float_format', '{:.10f}'.format)"
   ]
  },
  {
   "cell_type": "markdown",
   "metadata": {},
   "source": [
    "# Importando dados"
   ]
  },
  {
   "cell_type": "code",
   "execution_count": 3,
   "metadata": {},
   "outputs": [
    {
     "name": "stderr",
     "output_type": "stream",
     "text": [
      "C:\\Users\\felipebatista\\AppData\\Local\\Temp\\ipykernel_11444\\2443517200.py:2: DtypeWarning: Columns (1,11,15,26,32,34,35,36) have mixed types. Specify dtype option on import or set low_memory=False.\n",
      "  df = pd.read_csv(r'..\\data\\data.csv')\n"
     ]
    },
    {
     "data": {
      "text/html": [
       "<div>\n",
       "<style scoped>\n",
       "    .dataframe tbody tr th:only-of-type {\n",
       "        vertical-align: middle;\n",
       "    }\n",
       "\n",
       "    .dataframe tbody tr th {\n",
       "        vertical-align: top;\n",
       "    }\n",
       "\n",
       "    .dataframe thead th {\n",
       "        text-align: right;\n",
       "    }\n",
       "</style>\n",
       "<table border=\"1\" class=\"dataframe\">\n",
       "  <thead>\n",
       "    <tr style=\"text-align: right;\">\n",
       "      <th></th>\n",
       "      <th>DsStatus</th>\n",
       "      <th>UltimoMotivoEndosso</th>\n",
       "      <th>VlReceitaEsperada</th>\n",
       "      <th>DtPrimeiraParcela</th>\n",
       "      <th>NrParcelas</th>\n",
       "      <th>NmProduto</th>\n",
       "      <th>GrupoProduto</th>\n",
       "      <th>NOME_SEGURADORA_FINAL</th>\n",
       "      <th>Balcao</th>\n",
       "      <th>FlgHabitacao</th>\n",
       "      <th>...</th>\n",
       "      <th>StatusData</th>\n",
       "      <th>StatusValor</th>\n",
       "      <th>DifParcela</th>\n",
       "      <th>DifData</th>\n",
       "      <th>TIPO INADIMPLÊNCIA</th>\n",
       "      <th>NOTIFICAÇÕES</th>\n",
       "      <th>STATUS</th>\n",
       "      <th>STATUS PRÊMIO</th>\n",
       "      <th>INADIMPLÊNTE?</th>\n",
       "      <th>Esteve_Inadimplente?</th>\n",
       "    </tr>\n",
       "  </thead>\n",
       "  <tbody>\n",
       "    <tr>\n",
       "      <th>0</th>\n",
       "      <td>NaN</td>\n",
       "      <td>NaN</td>\n",
       "      <td>12222.4501953125</td>\n",
       "      <td>NaN</td>\n",
       "      <td>1.0000000000</td>\n",
       "      <td>2983630b65205bf108d9d69c960f67a8361b869201ad38...</td>\n",
       "      <td>8d76d9752f0ebba3365fd8bc593b811c8aa48160114978...</td>\n",
       "      <td>0feaa5e88e73d8e7eefc6d92c9bdb298a83b424e5e1902...</td>\n",
       "      <td>dc937b59892604f5a86ac96936cd7ff09e25f18ae6b758...</td>\n",
       "      <td>Fora Habitacao</td>\n",
       "      <td>...</td>\n",
       "      <td>Comissão não recebida</td>\n",
       "      <td>Comissão não recebida</td>\n",
       "      <td>12222.4500000000</td>\n",
       "      <td>-9140.0000000000</td>\n",
       "      <td>NaN</td>\n",
       "      <td>NaN</td>\n",
       "      <td>NaN</td>\n",
       "      <td>NaN</td>\n",
       "      <td>NaN</td>\n",
       "      <td>NÃO</td>\n",
       "    </tr>\n",
       "    <tr>\n",
       "      <th>1</th>\n",
       "      <td>NaN</td>\n",
       "      <td>NaN</td>\n",
       "      <td>12222.4501953125</td>\n",
       "      <td>NaN</td>\n",
       "      <td>1.0000000000</td>\n",
       "      <td>2983630b65205bf108d9d69c960f67a8361b869201ad38...</td>\n",
       "      <td>8d76d9752f0ebba3365fd8bc593b811c8aa48160114978...</td>\n",
       "      <td>0feaa5e88e73d8e7eefc6d92c9bdb298a83b424e5e1902...</td>\n",
       "      <td>dc937b59892604f5a86ac96936cd7ff09e25f18ae6b758...</td>\n",
       "      <td>Fora Habitacao</td>\n",
       "      <td>...</td>\n",
       "      <td>Comissão não recebida</td>\n",
       "      <td>Comissão não recebida</td>\n",
       "      <td>12222.4500000000</td>\n",
       "      <td>-9140.0000000000</td>\n",
       "      <td>NaN</td>\n",
       "      <td>NaN</td>\n",
       "      <td>NaN</td>\n",
       "      <td>NaN</td>\n",
       "      <td>NaN</td>\n",
       "      <td>NÃO</td>\n",
       "    </tr>\n",
       "    <tr>\n",
       "      <th>2</th>\n",
       "      <td>Confirmed</td>\n",
       "      <td>NaN</td>\n",
       "      <td>0.0000000000</td>\n",
       "      <td>2022-07-25</td>\n",
       "      <td>1.0000000000</td>\n",
       "      <td>9cdafbed10c0d51c62c70109841e569900f978bb7524ef...</td>\n",
       "      <td>54eb3384177a6f1bce36ebf478c32787a128b43144b901...</td>\n",
       "      <td>7a86589d1624833154c067fdf8379eca1c7de984bba0c3...</td>\n",
       "      <td>1c0779e41e8d0a97be3b94feda097bb3280456b4ad5363...</td>\n",
       "      <td>Massificado</td>\n",
       "      <td>...</td>\n",
       "      <td>Comissão não recebida</td>\n",
       "      <td>Comissão não recebida</td>\n",
       "      <td>0.0000000000</td>\n",
       "      <td>-899.0000000000</td>\n",
       "      <td>NaN</td>\n",
       "      <td>NaN</td>\n",
       "      <td>NaN</td>\n",
       "      <td>NaN</td>\n",
       "      <td>NaN</td>\n",
       "      <td>NÃO</td>\n",
       "    </tr>\n",
       "    <tr>\n",
       "      <th>3</th>\n",
       "      <td>Confirmado</td>\n",
       "      <td>NaN</td>\n",
       "      <td>527.8207397461</td>\n",
       "      <td>2016-05-26</td>\n",
       "      <td>1.0000000000</td>\n",
       "      <td>c68cb6c1bac51b9b18fe707b35d142a54e67f06780c358...</td>\n",
       "      <td>243f77a913aad6b64b4c73b481c94fce10c1554fbe86d1...</td>\n",
       "      <td>ce7112b1bb7af451acc6c360998019acfde75d2dcb1527...</td>\n",
       "      <td>dc937b59892604f5a86ac96936cd7ff09e25f18ae6b758...</td>\n",
       "      <td>Habitacao</td>\n",
       "      <td>...</td>\n",
       "      <td>Comissão não recebida</td>\n",
       "      <td>Comissão não recebida</td>\n",
       "      <td>527.8200000000</td>\n",
       "      <td>-3150.0000000000</td>\n",
       "      <td>NaN</td>\n",
       "      <td>NaN</td>\n",
       "      <td>NaN</td>\n",
       "      <td>NaN</td>\n",
       "      <td>NaN</td>\n",
       "      <td>NÃO</td>\n",
       "    </tr>\n",
       "    <tr>\n",
       "      <th>4</th>\n",
       "      <td>Confirmado</td>\n",
       "      <td>NaN</td>\n",
       "      <td>65.5500030518</td>\n",
       "      <td>2016-10-01</td>\n",
       "      <td>1.0000000000</td>\n",
       "      <td>f22e67f434917d011b2a3f8463d63bdf4acf6ddd14840b...</td>\n",
       "      <td>0048e821bb69ffdcd8f340d7d83aaefadea6b47377089b...</td>\n",
       "      <td>ce7112b1bb7af451acc6c360998019acfde75d2dcb1527...</td>\n",
       "      <td>dc937b59892604f5a86ac96936cd7ff09e25f18ae6b758...</td>\n",
       "      <td>Fora Habitacao</td>\n",
       "      <td>...</td>\n",
       "      <td>Comissão não recebida</td>\n",
       "      <td>Comissão não recebida</td>\n",
       "      <td>65.5500000000</td>\n",
       "      <td>-3022.0000000000</td>\n",
       "      <td>NaN</td>\n",
       "      <td>NaN</td>\n",
       "      <td>NaN</td>\n",
       "      <td>NaN</td>\n",
       "      <td>NaN</td>\n",
       "      <td>NÃO</td>\n",
       "    </tr>\n",
       "  </tbody>\n",
       "</table>\n",
       "<p>5 rows × 38 columns</p>\n",
       "</div>"
      ],
      "text/plain": [
       "     DsStatus UltimoMotivoEndosso  VlReceitaEsperada DtPrimeiraParcela  \\\n",
       "0         NaN                 NaN   12222.4501953125               NaN   \n",
       "1         NaN                 NaN   12222.4501953125               NaN   \n",
       "2   Confirmed                 NaN       0.0000000000        2022-07-25   \n",
       "3  Confirmado                 NaN     527.8207397461        2016-05-26   \n",
       "4  Confirmado                 NaN      65.5500030518        2016-10-01   \n",
       "\n",
       "    NrParcelas                                          NmProduto  \\\n",
       "0 1.0000000000  2983630b65205bf108d9d69c960f67a8361b869201ad38...   \n",
       "1 1.0000000000  2983630b65205bf108d9d69c960f67a8361b869201ad38...   \n",
       "2 1.0000000000  9cdafbed10c0d51c62c70109841e569900f978bb7524ef...   \n",
       "3 1.0000000000  c68cb6c1bac51b9b18fe707b35d142a54e67f06780c358...   \n",
       "4 1.0000000000  f22e67f434917d011b2a3f8463d63bdf4acf6ddd14840b...   \n",
       "\n",
       "                                        GrupoProduto  \\\n",
       "0  8d76d9752f0ebba3365fd8bc593b811c8aa48160114978...   \n",
       "1  8d76d9752f0ebba3365fd8bc593b811c8aa48160114978...   \n",
       "2  54eb3384177a6f1bce36ebf478c32787a128b43144b901...   \n",
       "3  243f77a913aad6b64b4c73b481c94fce10c1554fbe86d1...   \n",
       "4  0048e821bb69ffdcd8f340d7d83aaefadea6b47377089b...   \n",
       "\n",
       "                               NOME_SEGURADORA_FINAL  \\\n",
       "0  0feaa5e88e73d8e7eefc6d92c9bdb298a83b424e5e1902...   \n",
       "1  0feaa5e88e73d8e7eefc6d92c9bdb298a83b424e5e1902...   \n",
       "2  7a86589d1624833154c067fdf8379eca1c7de984bba0c3...   \n",
       "3  ce7112b1bb7af451acc6c360998019acfde75d2dcb1527...   \n",
       "4  ce7112b1bb7af451acc6c360998019acfde75d2dcb1527...   \n",
       "\n",
       "                                              Balcao    FlgHabitacao  ...  \\\n",
       "0  dc937b59892604f5a86ac96936cd7ff09e25f18ae6b758...  Fora Habitacao  ...   \n",
       "1  dc937b59892604f5a86ac96936cd7ff09e25f18ae6b758...  Fora Habitacao  ...   \n",
       "2  1c0779e41e8d0a97be3b94feda097bb3280456b4ad5363...     Massificado  ...   \n",
       "3  dc937b59892604f5a86ac96936cd7ff09e25f18ae6b758...       Habitacao  ...   \n",
       "4  dc937b59892604f5a86ac96936cd7ff09e25f18ae6b758...  Fora Habitacao  ...   \n",
       "\n",
       "              StatusData            StatusValor       DifParcela  \\\n",
       "0  Comissão não recebida  Comissão não recebida 12222.4500000000   \n",
       "1  Comissão não recebida  Comissão não recebida 12222.4500000000   \n",
       "2  Comissão não recebida  Comissão não recebida     0.0000000000   \n",
       "3  Comissão não recebida  Comissão não recebida   527.8200000000   \n",
       "4  Comissão não recebida  Comissão não recebida    65.5500000000   \n",
       "\n",
       "           DifData TIPO INADIMPLÊNCIA NOTIFICAÇÕES  STATUS  STATUS PRÊMIO  \\\n",
       "0 -9140.0000000000                NaN          NaN     NaN            NaN   \n",
       "1 -9140.0000000000                NaN          NaN     NaN            NaN   \n",
       "2  -899.0000000000                NaN          NaN     NaN            NaN   \n",
       "3 -3150.0000000000                NaN          NaN     NaN            NaN   \n",
       "4 -3022.0000000000                NaN          NaN     NaN            NaN   \n",
       "\n",
       "   INADIMPLÊNTE? Esteve_Inadimplente?  \n",
       "0            NaN                  NÃO  \n",
       "1            NaN                  NÃO  \n",
       "2            NaN                  NÃO  \n",
       "3            NaN                  NÃO  \n",
       "4            NaN                  NÃO  \n",
       "\n",
       "[5 rows x 38 columns]"
      ]
     },
     "execution_count": 3,
     "metadata": {},
     "output_type": "execute_result"
    }
   ],
   "source": [
    "# df = pd.read_csv('https://media.githubusercontent.com/media/Felisouza/tcc_mba_icmc/refs/heads/main/data/data.csv')\n",
    "df = pd.read_csv(r'..\\data\\data.csv')\n",
    "df.head()"
   ]
  },
  {
   "cell_type": "code",
   "execution_count": null,
   "metadata": {},
   "outputs": [],
   "source": [
    "df.info()"
   ]
  },
  {
   "cell_type": "code",
   "execution_count": null,
   "metadata": {},
   "outputs": [],
   "source": [
    "df['NrParcelas'].dtype"
   ]
  },
  {
   "cell_type": "code",
   "execution_count": null,
   "metadata": {},
   "outputs": [],
   "source": [
    "df.describe()"
   ]
  },
  {
   "cell_type": "code",
   "execution_count": null,
   "metadata": {},
   "outputs": [],
   "source": [
    "df['DsStatus'].value_counts()"
   ]
  },
  {
   "cell_type": "code",
   "execution_count": null,
   "metadata": {},
   "outputs": [],
   "source": [
    "df['STATUS'].value_counts()"
   ]
  },
  {
   "cell_type": "code",
   "execution_count": null,
   "metadata": {},
   "outputs": [],
   "source": [
    "df['STATUS PRÊMIO'].value_counts()"
   ]
  },
  {
   "cell_type": "markdown",
   "metadata": {},
   "source": [
    "# Limpeza dos dados"
   ]
  },
  {
   "cell_type": "markdown",
   "metadata": {},
   "source": [
    "## Arredondando valores float"
   ]
  },
  {
   "cell_type": "code",
   "execution_count": 4,
   "metadata": {},
   "outputs": [
    {
     "data": {
      "text/plain": [
       "Index(['VlReceitaEsperada', 'NrParcelas', 'PremioBrutoModDiv', 'ValorParcela',\n",
       "       'VlComissao_co', 'DifParcela', 'DifData', 'NOTIFICAÇÕES'],\n",
       "      dtype='object')"
      ]
     },
     "execution_count": 4,
     "metadata": {},
     "output_type": "execute_result"
    }
   ],
   "source": [
    "float_cols = df.select_dtypes(include=['float64']).columns \n",
    "float_cols\n",
    "# df_sem[float_cols] = df[float_cols].round(0).astype(int)"
   ]
  },
  {
   "cell_type": "code",
   "execution_count": 5,
   "metadata": {},
   "outputs": [],
   "source": [
    "df[float_cols] = df[float_cols].fillna(0).replace([float('inf'), -float('inf')], 0)"
   ]
  },
  {
   "cell_type": "code",
   "execution_count": 6,
   "metadata": {},
   "outputs": [],
   "source": [
    "df[float_cols] = df[float_cols].round(0).astype(int)"
   ]
  },
  {
   "cell_type": "markdown",
   "metadata": {},
   "source": [
    "## Valor prorrogado para 'NÃO'"
   ]
  },
  {
   "cell_type": "code",
   "execution_count": 7,
   "metadata": {},
   "outputs": [],
   "source": [
    "df['INADIMPLÊNTE?'].replace('PRORROGADO', 'NÃO', inplace=True)"
   ]
  },
  {
   "cell_type": "markdown",
   "metadata": {},
   "source": [
    "# Tirando apólices canceladas"
   ]
  },
  {
   "cell_type": "code",
   "execution_count": 8,
   "metadata": {},
   "outputs": [],
   "source": [
    "df_sem_canc = (\n",
    "df[\n",
    "    (df['DsStatus'] != 'Cancelado')\n",
    "    & (df['DsStatus'] != 'Cancelado(a)')\n",
    "    & (df['STATUS'] != 'APÓLICE CANCELADA')\n",
    "    & (df['STATUS'] != 'AGUARDANDO BAIXA DE CANCELAMENTO')\n",
    "    & (df['STATUS PRÊMIO'] != 'EM CANCELAMENTO')\n",
    "    & (df['INADIMPLÊNTE?'] != 'CANCELADA')\n",
    "    & (~df['DsStatus'].isna())\n",
    "    & (~df['Data_Receber'].isna())\n",
    "]\n",
    ")"
   ]
  },
  {
   "cell_type": "markdown",
   "metadata": {},
   "source": [
    "## Coluna Inadimplente_Atual"
   ]
  },
  {
   "cell_type": "code",
   "execution_count": 9,
   "metadata": {},
   "outputs": [],
   "source": [
    "df['Inadimplente_Atual'] = df['INADIMPLÊNTE?'].apply(lambda x: 1 if x == 'SIM' else 0)\n"
   ]
  },
  {
   "cell_type": "markdown",
   "metadata": {},
   "source": [
    "## Coluna target para numérico"
   ]
  },
  {
   "cell_type": "code",
   "execution_count": 10,
   "metadata": {},
   "outputs": [],
   "source": [
    "def coluna_binaria(df, coluna):\n",
    "    novo_nome_coluna = coluna + '_num'\n",
    "    df[novo_nome_coluna] = df[coluna].map({'SIM':1, 'NÃO':0})\n",
    "    return df"
   ]
  },
  {
   "cell_type": "code",
   "execution_count": 11,
   "metadata": {},
   "outputs": [
    {
     "name": "stderr",
     "output_type": "stream",
     "text": [
      "C:\\Users\\felipebatista\\AppData\\Local\\Temp\\ipykernel_11444\\203985392.py:3: SettingWithCopyWarning: \n",
      "A value is trying to be set on a copy of a slice from a DataFrame.\n",
      "Try using .loc[row_indexer,col_indexer] = value instead\n",
      "\n",
      "See the caveats in the documentation: https://pandas.pydata.org/pandas-docs/stable/user_guide/indexing.html#returning-a-view-versus-a-copy\n",
      "  df[novo_nome_coluna] = df[coluna].map({'SIM':1, 'NÃO':0})\n"
     ]
    }
   ],
   "source": [
    "df_sem_canc = coluna_binaria(df_sem_canc, 'INADIMPLÊNTE?')"
   ]
  },
  {
   "cell_type": "code",
   "execution_count": 12,
   "metadata": {},
   "outputs": [
    {
     "name": "stderr",
     "output_type": "stream",
     "text": [
      "C:\\Users\\felipebatista\\AppData\\Local\\Temp\\ipykernel_11444\\203985392.py:3: SettingWithCopyWarning: \n",
      "A value is trying to be set on a copy of a slice from a DataFrame.\n",
      "Try using .loc[row_indexer,col_indexer] = value instead\n",
      "\n",
      "See the caveats in the documentation: https://pandas.pydata.org/pandas-docs/stable/user_guide/indexing.html#returning-a-view-versus-a-copy\n",
      "  df[novo_nome_coluna] = df[coluna].map({'SIM':1, 'NÃO':0})\n"
     ]
    }
   ],
   "source": [
    "df_sem_canc = coluna_binaria(df_sem_canc, 'Esteve_Inadimplente?')"
   ]
  },
  {
   "cell_type": "markdown",
   "metadata": {},
   "source": [
    "## Coluna trimestre - ano"
   ]
  },
  {
   "cell_type": "code",
   "execution_count": 13,
   "metadata": {},
   "outputs": [
    {
     "data": {
      "text/plain": [
       "DsStatus                     object\n",
       "UltimoMotivoEndosso          object\n",
       "VlReceitaEsperada             int32\n",
       "DtPrimeiraParcela            object\n",
       "NrParcelas                    int32\n",
       "NmProduto                    object\n",
       "GrupoProduto                 object\n",
       "NOME_SEGURADORA_FINAL        object\n",
       "Balcao                       object\n",
       "FlgHabitacao                 object\n",
       "TipoEmissao                  object\n",
       "PeriodocidadePagamento       object\n",
       "DtEmissao                    object\n",
       "NmTomador                    object\n",
       "GrupoEconomico               object\n",
       "TipoOportunidade             object\n",
       "PremioBrutoModDiv             int32\n",
       "Parcela                       int64\n",
       "ValorParcela                  int32\n",
       "DataVencimento               object\n",
       "Periodicidade                 int64\n",
       "PeriodicidadeMes              int64\n",
       "Data_Receber                 object\n",
       "VlComissao_co                 int32\n",
       "NmSeguradora_co              object\n",
       "CanalVenda_co                object\n",
       "DtFaturamento_max_co         object\n",
       "Status_PG                    object\n",
       "StatusData                   object\n",
       "StatusValor                  object\n",
       "DifParcela                    int32\n",
       "DifData                       int32\n",
       "TIPO INADIMPLÊNCIA           object\n",
       "NOTIFICAÇÕES                  int32\n",
       "STATUS                       object\n",
       "STATUS PRÊMIO                object\n",
       "INADIMPLÊNTE?                object\n",
       "Esteve_Inadimplente?         object\n",
       "INADIMPLÊNTE?_num           float64\n",
       "Esteve_Inadimplente?_num      int64\n",
       "dtype: object"
      ]
     },
     "execution_count": 13,
     "metadata": {},
     "output_type": "execute_result"
    }
   ],
   "source": [
    "df_sem_canc.dtypes"
   ]
  },
  {
   "cell_type": "code",
   "execution_count": 14,
   "metadata": {},
   "outputs": [
    {
     "name": "stderr",
     "output_type": "stream",
     "text": [
      "C:\\Users\\felipebatista\\AppData\\Local\\Temp\\ipykernel_11444\\3291830796.py:2: SettingWithCopyWarning: \n",
      "A value is trying to be set on a copy of a slice from a DataFrame.\n",
      "Try using .loc[row_indexer,col_indexer] = value instead\n",
      "\n",
      "See the caveats in the documentation: https://pandas.pydata.org/pandas-docs/stable/user_guide/indexing.html#returning-a-view-versus-a-copy\n",
      "  df_sem_canc['Data_Receber'] = pd.to_datetime(df_sem_canc['Data_Receber'])\n",
      "C:\\Users\\felipebatista\\AppData\\Local\\Temp\\ipykernel_11444\\3291830796.py:5: SettingWithCopyWarning: \n",
      "A value is trying to be set on a copy of a slice from a DataFrame.\n",
      "Try using .loc[row_indexer,col_indexer] = value instead\n",
      "\n",
      "See the caveats in the documentation: https://pandas.pydata.org/pandas-docs/stable/user_guide/indexing.html#returning-a-view-versus-a-copy\n",
      "  df_sem_canc['trimestre'] = df_sem_canc['Data_Receber'].dt.quarter\n",
      "C:\\Users\\felipebatista\\AppData\\Local\\Temp\\ipykernel_11444\\3291830796.py:8: SettingWithCopyWarning: \n",
      "A value is trying to be set on a copy of a slice from a DataFrame.\n",
      "Try using .loc[row_indexer,col_indexer] = value instead\n",
      "\n",
      "See the caveats in the documentation: https://pandas.pydata.org/pandas-docs/stable/user_guide/indexing.html#returning-a-view-versus-a-copy\n",
      "  df_sem_canc['trimestre'] = df_sem_canc['trimestre'].fillna(0)\n",
      "C:\\Users\\felipebatista\\AppData\\Local\\Temp\\ipykernel_11444\\3291830796.py:11: SettingWithCopyWarning: \n",
      "A value is trying to be set on a copy of a slice from a DataFrame.\n",
      "Try using .loc[row_indexer,col_indexer] = value instead\n",
      "\n",
      "See the caveats in the documentation: https://pandas.pydata.org/pandas-docs/stable/user_guide/indexing.html#returning-a-view-versus-a-copy\n",
      "  df_sem_canc['trimestre'] = df_sem_canc['trimestre'].astype(int)\n"
     ]
    }
   ],
   "source": [
    "# Converter a coluna 'Data_Receber' para o formato datetime\n",
    "df_sem_canc['Data_Receber'] = pd.to_datetime(df_sem_canc['Data_Receber'])\n",
    "\n",
    "# Criar a coluna de trimestres com valores 1, 2, 3 ou 4\n",
    "df_sem_canc['trimestre'] = df_sem_canc['Data_Receber'].dt.quarter\n",
    "\n",
    "# Preencher valores NA com 0\n",
    "df_sem_canc['trimestre'] = df_sem_canc['trimestre'].fillna(0)\n",
    "\n",
    "# Converter a coluna de trimestres para o tipo int\n",
    "df_sem_canc['trimestre'] = df_sem_canc['trimestre'].astype(int)\n"
   ]
  },
  {
   "cell_type": "markdown",
   "metadata": {},
   "source": [
    "## Tratando valores nulos"
   ]
  },
  {
   "cell_type": "code",
   "execution_count": 15,
   "metadata": {},
   "outputs": [
    {
     "data": {
      "text/plain": [
       "UltimoMotivoEndosso         1860292\n",
       "STATUS                      1857380\n",
       "INADIMPLÊNTE?_num           1857159\n",
       "INADIMPLÊNTE?               1857159\n",
       "STATUS PRÊMIO               1857159\n",
       "TIPO INADIMPLÊNCIA          1857159\n",
       "TipoOportunidade            1400361\n",
       "DtFaturamento_max_co         616380\n",
       "PeriodocidadePagamento       440810\n",
       "DtPrimeiraParcela             13835\n",
       "StatusValor                       0\n",
       "CanalVenda_co                     0\n",
       "Status_PG                         0\n",
       "StatusData                        0\n",
       "DsStatus                          0\n",
       "DifParcela                        0\n",
       "DifData                           0\n",
       "VlComissao_co                     0\n",
       "NOTIFICAÇÕES                      0\n",
       "Esteve_Inadimplente?              0\n",
       "Esteve_Inadimplente?_num          0\n",
       "NmSeguradora_co                   0\n",
       "Periodicidade                     0\n",
       "Data_Receber                      0\n",
       "PeriodicidadeMes                  0\n",
       "VlReceitaEsperada                 0\n",
       "NrParcelas                        0\n",
       "NmProduto                         0\n",
       "GrupoProduto                      0\n",
       "NOME_SEGURADORA_FINAL             0\n",
       "Balcao                            0\n",
       "FlgHabitacao                      0\n",
       "TipoEmissao                       0\n",
       "DtEmissao                         0\n",
       "NmTomador                         0\n",
       "GrupoEconomico                    0\n",
       "PremioBrutoModDiv                 0\n",
       "Parcela                           0\n",
       "ValorParcela                      0\n",
       "DataVencimento                    0\n",
       "trimestre                         0\n",
       "dtype: int64"
      ]
     },
     "execution_count": 15,
     "metadata": {},
     "output_type": "execute_result"
    }
   ],
   "source": [
    "df_sem_canc.isnull().sum().sort_values(ascending=False)"
   ]
  },
  {
   "cell_type": "code",
   "execution_count": 16,
   "metadata": {},
   "outputs": [],
   "source": [
    "# Listar as colunas a serem removidas\n",
    "colunas_para_remover = [\n",
    "    'UltimoMotivoEndosso',\n",
    "    'STATUS',\n",
    "    'TIPO INADIMPLÊNCIA',\n",
    "    'INADIMPLÊNTE?_num',\n",
    "    'INADIMPLÊNTE?',\n",
    "    'STATUS PRÊMIO',\n",
    "    'TipoOportunidade',\n",
    "    'DtFaturamento_max_co',\n",
    "    'PeriodocidadePagamento',\n",
    "    'DtPrimeiraParcela'\n",
    "]\n",
    "\n",
    "# Remover as colunas do DataFrame\n",
    "df_sem_canc = df_sem_canc.drop(columns=colunas_para_remover)\n"
   ]
  },
  {
   "cell_type": "code",
   "execution_count": 17,
   "metadata": {},
   "outputs": [
    {
     "name": "stdout",
     "output_type": "stream",
     "text": [
      "<class 'pandas.core.frame.DataFrame'>\n",
      "Index: 1867279 entries, 2 to 1952062\n",
      "Data columns (total 31 columns):\n",
      " #   Column                    Dtype         \n",
      "---  ------                    -----         \n",
      " 0   DsStatus                  object        \n",
      " 1   VlReceitaEsperada         int32         \n",
      " 2   NrParcelas                int32         \n",
      " 3   NmProduto                 object        \n",
      " 4   GrupoProduto              object        \n",
      " 5   NOME_SEGURADORA_FINAL     object        \n",
      " 6   Balcao                    object        \n",
      " 7   FlgHabitacao              object        \n",
      " 8   TipoEmissao               object        \n",
      " 9   DtEmissao                 object        \n",
      " 10  NmTomador                 object        \n",
      " 11  GrupoEconomico            object        \n",
      " 12  PremioBrutoModDiv         int32         \n",
      " 13  Parcela                   int64         \n",
      " 14  ValorParcela              int32         \n",
      " 15  DataVencimento            object        \n",
      " 16  Periodicidade             int64         \n",
      " 17  PeriodicidadeMes          int64         \n",
      " 18  Data_Receber              datetime64[ns]\n",
      " 19  VlComissao_co             int32         \n",
      " 20  NmSeguradora_co           object        \n",
      " 21  CanalVenda_co             object        \n",
      " 22  Status_PG                 object        \n",
      " 23  StatusData                object        \n",
      " 24  StatusValor               object        \n",
      " 25  DifParcela                int32         \n",
      " 26  DifData                   int32         \n",
      " 27  NOTIFICAÇÕES              int32         \n",
      " 28  Esteve_Inadimplente?      object        \n",
      " 29  Esteve_Inadimplente?_num  int64         \n",
      " 30  trimestre                 int32         \n",
      "dtypes: datetime64[ns](1), int32(9), int64(4), object(17)\n",
      "memory usage: 391.8+ MB\n"
     ]
    }
   ],
   "source": [
    "df_sem_canc.info()"
   ]
  },
  {
   "cell_type": "markdown",
   "metadata": {},
   "source": [
    "## Retirando colunas"
   ]
  },
  {
   "cell_type": "code",
   "execution_count": 18,
   "metadata": {},
   "outputs": [
    {
     "name": "stdout",
     "output_type": "stream",
     "text": [
      "<class 'pandas.core.frame.DataFrame'>\n",
      "Index: 1867279 entries, 2 to 1952062\n",
      "Data columns (total 18 columns):\n",
      " #   Column                    Dtype         \n",
      "---  ------                    -----         \n",
      " 0   VlReceitaEsperada         int32         \n",
      " 1   NrParcelas                int32         \n",
      " 2   NmProduto                 object        \n",
      " 3   GrupoProduto              object        \n",
      " 4   NOME_SEGURADORA_FINAL     object        \n",
      " 5   NmTomador                 object        \n",
      " 6   GrupoEconomico            object        \n",
      " 7   PremioBrutoModDiv         int32         \n",
      " 8   Parcela                   int64         \n",
      " 9   ValorParcela              int32         \n",
      " 10  PeriodicidadeMes          int64         \n",
      " 11  Data_Receber              datetime64[ns]\n",
      " 12  VlComissao_co             int32         \n",
      " 13  DifParcela                int32         \n",
      " 14  DifData                   int32         \n",
      " 15  Esteve_Inadimplente?      object        \n",
      " 16  Esteve_Inadimplente?_num  int64         \n",
      " 17  trimestre                 int32         \n",
      "dtypes: datetime64[ns](1), int32(8), int64(3), object(6)\n",
      "memory usage: 213.7+ MB\n"
     ]
    }
   ],
   "source": [
    "colunas_para_remover = [\n",
    "    'DsStatus',\n",
    "    'Balcao',\n",
    "    'FlgHabitacao',\n",
    "    'TipoEmissao',\n",
    "    'DtEmissao',\n",
    "    'DataVencimento',\n",
    "    'Periodicidade',\n",
    "    'NmSeguradora_co',\n",
    "    'CanalVenda_co',\n",
    "    'Status_PG',\n",
    "    'StatusData',\n",
    "    'StatusValor',\n",
    "    'NOTIFICAÇÕES'\n",
    "]\n",
    "\n",
    "df_sem_canc = df_sem_canc.drop(columns=colunas_para_remover)\n",
    "df_sem_canc.info()\n"
   ]
  },
  {
   "cell_type": "code",
   "execution_count": 19,
   "metadata": {},
   "outputs": [],
   "source": [
    "# df_sem_canc['StatusValor'].unique()"
   ]
  },
  {
   "cell_type": "markdown",
   "metadata": {},
   "source": [
    "## Padronizando dados financeiros"
   ]
  },
  {
   "cell_type": "code",
   "execution_count": 20,
   "metadata": {},
   "outputs": [],
   "source": [
    "# Inicializar o StandardScaler\n",
    "scaler = StandardScaler()\n",
    "\n",
    "#colunas para padronizar\n",
    "colunas_padronizar = ['VlReceitaEsperada', 'PremioBrutoModDiv', 'ValorParcela', 'VlComissao_co']\n",
    "\n",
    "\n",
    "#Padronizando colunas\n",
    "for col in colunas_padronizar:\n",
    "    df_sem_canc[col + '_standart'] = scaler.fit_transform(df_sem_canc[[col]])\n",
    "\n",
    "# df_sem_canc"
   ]
  },
  {
   "cell_type": "markdown",
   "metadata": {},
   "source": [
    "## Coluna taxa de Inadimplência"
   ]
  },
  {
   "cell_type": "code",
   "execution_count": 21,
   "metadata": {},
   "outputs": [],
   "source": [
    "# Vamos assumir que a taxa de inadimplência seja calculada como a porcentagem da \n",
    "# 'ValorParcela' df['Taxa_Inadimplencia'] \n",
    "# df_sem_canc.apply(lambda row: row['ValorParcela'] if row['Esteve_Inadimplente?'] else 0, axis=1) "
   ]
  },
  {
   "cell_type": "markdown",
   "metadata": {},
   "source": [
    "## One-hot-encoding"
   ]
  },
  {
   "cell_type": "code",
   "execution_count": 22,
   "metadata": {},
   "outputs": [],
   "source": [
    "# # One-Hot Encoding com matrizes esparsas \n",
    "# encoder = OneHotEncoder()"
   ]
  },
  {
   "cell_type": "code",
   "execution_count": 23,
   "metadata": {},
   "outputs": [],
   "source": [
    "# encoded = encoder.fit_transform(df_sem_canc[['NOME_SEGURADORA_FINAL', 'NmProduto', 'NmTomador']])\n",
    "# encoded"
   ]
  },
  {
   "cell_type": "code",
   "execution_count": 24,
   "metadata": {},
   "outputs": [],
   "source": [
    "# # Para converter de volta em DataFrame e juntar com o original \n",
    "# df_encoded = pd.DataFrame.sparse.from_spmatrix(encoded, columns=encoder.get_feature_names_out(['NOME_SEGURADORA_FINAL', 'NmProduto', 'NmTomador'])) \n",
    "# df_final = pd.concat([df_sem_canc, df_encoded], axis=1)\n",
    "# df_final"
   ]
  },
  {
   "cell_type": "code",
   "execution_count": 25,
   "metadata": {},
   "outputs": [],
   "source": [
    "# df_sample = df_sem_canc.sample(frac=0.1, random_state=1)\n",
    "df_final = pd.get_dummies(df_sem_canc, columns=['NOME_SEGURADORA_FINAL'], drop_first=False)"
   ]
  },
  {
   "cell_type": "markdown",
   "metadata": {},
   "source": [
    "## Escrita base tratada"
   ]
  },
  {
   "cell_type": "code",
   "execution_count": 26,
   "metadata": {},
   "outputs": [
    {
     "name": "stdout",
     "output_type": "stream",
     "text": [
      "DataFrame escrito com sucesso para 'data_curated.csv'\n"
     ]
    }
   ],
   "source": [
    "df_final.to_csv(r'~\\Desktop\\tcc_mba_icmc\\data\\data_curated.csv', index=False)\n",
    "\n",
    "print(\"DataFrame escrito com sucesso para 'data_curated.csv'\")"
   ]
  },
  {
   "cell_type": "code",
   "execution_count": 27,
   "metadata": {},
   "outputs": [
    {
     "data": {
      "text/html": [
       "<div>\n",
       "<style scoped>\n",
       "    .dataframe tbody tr th:only-of-type {\n",
       "        vertical-align: middle;\n",
       "    }\n",
       "\n",
       "    .dataframe tbody tr th {\n",
       "        vertical-align: top;\n",
       "    }\n",
       "\n",
       "    .dataframe thead th {\n",
       "        text-align: right;\n",
       "    }\n",
       "</style>\n",
       "<table border=\"1\" class=\"dataframe\">\n",
       "  <thead>\n",
       "    <tr style=\"text-align: right;\">\n",
       "      <th></th>\n",
       "      <th>VlReceitaEsperada</th>\n",
       "      <th>NrParcelas</th>\n",
       "      <th>NmProduto</th>\n",
       "      <th>GrupoProduto</th>\n",
       "      <th>NmTomador</th>\n",
       "      <th>GrupoEconomico</th>\n",
       "      <th>PremioBrutoModDiv</th>\n",
       "      <th>Parcela</th>\n",
       "      <th>ValorParcela</th>\n",
       "      <th>PeriodicidadeMes</th>\n",
       "      <th>...</th>\n",
       "      <th>NOME_SEGURADORA_FINAL_ef29ca0b017f73a647d7b93280e327d67d04c9652505835f839961ffe016abb7</th>\n",
       "      <th>NOME_SEGURADORA_FINAL_ef57e5a22f3c1af190f69cf24780a85ab939296b8a2110f10345c7332612e229</th>\n",
       "      <th>NOME_SEGURADORA_FINAL_efa51d1b726310b3be0cedf18cbabe6c68897d1e2a3cdeff5340db5f5033174b</th>\n",
       "      <th>NOME_SEGURADORA_FINAL_f196974014aad82f9f373bc80500b53092da47b34c67e5a7122ec938fe5775d4</th>\n",
       "      <th>NOME_SEGURADORA_FINAL_f47000b596b290f24cb54e3a8d7f11be387c60d3cfa521817955b6b3c6ae59fa</th>\n",
       "      <th>NOME_SEGURADORA_FINAL_f48e40067a48047401e9e4bcc18fea55cfa0b88e9c3468f7bb0bc897609d712d</th>\n",
       "      <th>NOME_SEGURADORA_FINAL_f6b33afc342d2988e4c750108b804763b86da7fe0a2cd4e46fe4b423874dca2f</th>\n",
       "      <th>NOME_SEGURADORA_FINAL_fb28df294b075e74b80a5c02f4555c6031570106163066c246d482d112cabe1a</th>\n",
       "      <th>NOME_SEGURADORA_FINAL_fe11e9c51a77753fab092e2968abfbe249ba79e8d93ea93273bf3b8bc06ebc94</th>\n",
       "      <th>NOME_SEGURADORA_FINAL_fedb1b2600b69c711cb7b2a5fde86df6c0f8623cd7e525e91915fe485feabc8a</th>\n",
       "    </tr>\n",
       "  </thead>\n",
       "  <tbody>\n",
       "    <tr>\n",
       "      <th>0</th>\n",
       "      <td>0</td>\n",
       "      <td>1</td>\n",
       "      <td>9cdafbed10c0d51c62c70109841e569900f978bb7524ef...</td>\n",
       "      <td>54eb3384177a6f1bce36ebf478c32787a128b43144b901...</td>\n",
       "      <td>dc937b59892604f5a86ac96936cd7ff09e25f18ae6b758...</td>\n",
       "      <td>dc937b59892604f5a86ac96936cd7ff09e25f18ae6b758...</td>\n",
       "      <td>4349</td>\n",
       "      <td>1</td>\n",
       "      <td>0</td>\n",
       "      <td>1</td>\n",
       "      <td>...</td>\n",
       "      <td>False</td>\n",
       "      <td>False</td>\n",
       "      <td>False</td>\n",
       "      <td>False</td>\n",
       "      <td>False</td>\n",
       "      <td>False</td>\n",
       "      <td>False</td>\n",
       "      <td>False</td>\n",
       "      <td>False</td>\n",
       "      <td>False</td>\n",
       "    </tr>\n",
       "    <tr>\n",
       "      <th>1</th>\n",
       "      <td>528</td>\n",
       "      <td>1</td>\n",
       "      <td>c68cb6c1bac51b9b18fe707b35d142a54e67f06780c358...</td>\n",
       "      <td>243f77a913aad6b64b4c73b481c94fce10c1554fbe86d1...</td>\n",
       "      <td>7b0c6f6a92137fc18c4accdaf9dc8eb1b7d105496a126e...</td>\n",
       "      <td>e468ad81880f4156af507e2d09f2c6c1746f356460dce0...</td>\n",
       "      <td>2346</td>\n",
       "      <td>1</td>\n",
       "      <td>528</td>\n",
       "      <td>1</td>\n",
       "      <td>...</td>\n",
       "      <td>False</td>\n",
       "      <td>False</td>\n",
       "      <td>False</td>\n",
       "      <td>False</td>\n",
       "      <td>False</td>\n",
       "      <td>False</td>\n",
       "      <td>False</td>\n",
       "      <td>False</td>\n",
       "      <td>False</td>\n",
       "      <td>False</td>\n",
       "    </tr>\n",
       "    <tr>\n",
       "      <th>2</th>\n",
       "      <td>66</td>\n",
       "      <td>1</td>\n",
       "      <td>f22e67f434917d011b2a3f8463d63bdf4acf6ddd14840b...</td>\n",
       "      <td>0048e821bb69ffdcd8f340d7d83aaefadea6b47377089b...</td>\n",
       "      <td>418fe50aa1ba9b6660f2afa031b6adf31bf7e7e892d43e...</td>\n",
       "      <td>418fe50aa1ba9b6660f2afa031b6adf31bf7e7e892d43e...</td>\n",
       "      <td>437</td>\n",
       "      <td>1</td>\n",
       "      <td>66</td>\n",
       "      <td>1</td>\n",
       "      <td>...</td>\n",
       "      <td>False</td>\n",
       "      <td>False</td>\n",
       "      <td>False</td>\n",
       "      <td>False</td>\n",
       "      <td>False</td>\n",
       "      <td>False</td>\n",
       "      <td>False</td>\n",
       "      <td>False</td>\n",
       "      <td>False</td>\n",
       "      <td>False</td>\n",
       "    </tr>\n",
       "    <tr>\n",
       "      <th>3</th>\n",
       "      <td>818</td>\n",
       "      <td>1</td>\n",
       "      <td>f22e67f434917d011b2a3f8463d63bdf4acf6ddd14840b...</td>\n",
       "      <td>0048e821bb69ffdcd8f340d7d83aaefadea6b47377089b...</td>\n",
       "      <td>9023625c4850288ff84f2dfa62d5bb0a4a6465c82e3c60...</td>\n",
       "      <td>9023625c4850288ff84f2dfa62d5bb0a4a6465c82e3c60...</td>\n",
       "      <td>5453</td>\n",
       "      <td>1</td>\n",
       "      <td>818</td>\n",
       "      <td>1</td>\n",
       "      <td>...</td>\n",
       "      <td>False</td>\n",
       "      <td>False</td>\n",
       "      <td>False</td>\n",
       "      <td>False</td>\n",
       "      <td>False</td>\n",
       "      <td>False</td>\n",
       "      <td>False</td>\n",
       "      <td>False</td>\n",
       "      <td>False</td>\n",
       "      <td>False</td>\n",
       "    </tr>\n",
       "    <tr>\n",
       "      <th>4</th>\n",
       "      <td>188</td>\n",
       "      <td>10</td>\n",
       "      <td>0c4302ab1690d261d113a63cb27c17d6e4c04edb378b5b...</td>\n",
       "      <td>541d9e89fcbd48ed2be6049a23f8cffbf4b492adea1c43...</td>\n",
       "      <td>d8629d6d970adfc91f2d7ea3c40ae8004883e9df78555f...</td>\n",
       "      <td>d8629d6d970adfc91f2d7ea3c40ae8004883e9df78555f...</td>\n",
       "      <td>1878</td>\n",
       "      <td>2</td>\n",
       "      <td>19</td>\n",
       "      <td>1</td>\n",
       "      <td>...</td>\n",
       "      <td>False</td>\n",
       "      <td>False</td>\n",
       "      <td>False</td>\n",
       "      <td>False</td>\n",
       "      <td>False</td>\n",
       "      <td>False</td>\n",
       "      <td>False</td>\n",
       "      <td>False</td>\n",
       "      <td>False</td>\n",
       "      <td>False</td>\n",
       "    </tr>\n",
       "    <tr>\n",
       "      <th>...</th>\n",
       "      <td>...</td>\n",
       "      <td>...</td>\n",
       "      <td>...</td>\n",
       "      <td>...</td>\n",
       "      <td>...</td>\n",
       "      <td>...</td>\n",
       "      <td>...</td>\n",
       "      <td>...</td>\n",
       "      <td>...</td>\n",
       "      <td>...</td>\n",
       "      <td>...</td>\n",
       "      <td>...</td>\n",
       "      <td>...</td>\n",
       "      <td>...</td>\n",
       "      <td>...</td>\n",
       "      <td>...</td>\n",
       "      <td>...</td>\n",
       "      <td>...</td>\n",
       "      <td>...</td>\n",
       "      <td>...</td>\n",
       "      <td>...</td>\n",
       "    </tr>\n",
       "    <tr>\n",
       "      <th>1867274</th>\n",
       "      <td>671</td>\n",
       "      <td>1</td>\n",
       "      <td>d6bd6b18a4384e2bee35d512533d1e90d6d40953b405c8...</td>\n",
       "      <td>541d9e89fcbd48ed2be6049a23f8cffbf4b492adea1c43...</td>\n",
       "      <td>3963ef52df4b1e445148010e5c5ce5206ca795e32ceb1e...</td>\n",
       "      <td>3963ef52df4b1e445148010e5c5ce5206ca795e32ceb1e...</td>\n",
       "      <td>2686</td>\n",
       "      <td>1</td>\n",
       "      <td>671</td>\n",
       "      <td>1</td>\n",
       "      <td>...</td>\n",
       "      <td>False</td>\n",
       "      <td>False</td>\n",
       "      <td>False</td>\n",
       "      <td>False</td>\n",
       "      <td>False</td>\n",
       "      <td>False</td>\n",
       "      <td>False</td>\n",
       "      <td>False</td>\n",
       "      <td>False</td>\n",
       "      <td>False</td>\n",
       "    </tr>\n",
       "    <tr>\n",
       "      <th>1867275</th>\n",
       "      <td>852</td>\n",
       "      <td>1</td>\n",
       "      <td>d6bd6b18a4384e2bee35d512533d1e90d6d40953b405c8...</td>\n",
       "      <td>541d9e89fcbd48ed2be6049a23f8cffbf4b492adea1c43...</td>\n",
       "      <td>3963ef52df4b1e445148010e5c5ce5206ca795e32ceb1e...</td>\n",
       "      <td>3963ef52df4b1e445148010e5c5ce5206ca795e32ceb1e...</td>\n",
       "      <td>3410</td>\n",
       "      <td>1</td>\n",
       "      <td>852</td>\n",
       "      <td>1</td>\n",
       "      <td>...</td>\n",
       "      <td>False</td>\n",
       "      <td>False</td>\n",
       "      <td>False</td>\n",
       "      <td>False</td>\n",
       "      <td>False</td>\n",
       "      <td>False</td>\n",
       "      <td>False</td>\n",
       "      <td>False</td>\n",
       "      <td>False</td>\n",
       "      <td>False</td>\n",
       "    </tr>\n",
       "    <tr>\n",
       "      <th>1867276</th>\n",
       "      <td>476</td>\n",
       "      <td>1</td>\n",
       "      <td>d6bd6b18a4384e2bee35d512533d1e90d6d40953b405c8...</td>\n",
       "      <td>541d9e89fcbd48ed2be6049a23f8cffbf4b492adea1c43...</td>\n",
       "      <td>3963ef52df4b1e445148010e5c5ce5206ca795e32ceb1e...</td>\n",
       "      <td>3963ef52df4b1e445148010e5c5ce5206ca795e32ceb1e...</td>\n",
       "      <td>1905</td>\n",
       "      <td>1</td>\n",
       "      <td>476</td>\n",
       "      <td>1</td>\n",
       "      <td>...</td>\n",
       "      <td>False</td>\n",
       "      <td>False</td>\n",
       "      <td>False</td>\n",
       "      <td>False</td>\n",
       "      <td>False</td>\n",
       "      <td>False</td>\n",
       "      <td>False</td>\n",
       "      <td>False</td>\n",
       "      <td>False</td>\n",
       "      <td>False</td>\n",
       "    </tr>\n",
       "    <tr>\n",
       "      <th>1867277</th>\n",
       "      <td>250</td>\n",
       "      <td>1</td>\n",
       "      <td>d6bd6b18a4384e2bee35d512533d1e90d6d40953b405c8...</td>\n",
       "      <td>541d9e89fcbd48ed2be6049a23f8cffbf4b492adea1c43...</td>\n",
       "      <td>3963ef52df4b1e445148010e5c5ce5206ca795e32ceb1e...</td>\n",
       "      <td>3963ef52df4b1e445148010e5c5ce5206ca795e32ceb1e...</td>\n",
       "      <td>1000</td>\n",
       "      <td>1</td>\n",
       "      <td>250</td>\n",
       "      <td>1</td>\n",
       "      <td>...</td>\n",
       "      <td>False</td>\n",
       "      <td>False</td>\n",
       "      <td>False</td>\n",
       "      <td>False</td>\n",
       "      <td>False</td>\n",
       "      <td>False</td>\n",
       "      <td>False</td>\n",
       "      <td>False</td>\n",
       "      <td>False</td>\n",
       "      <td>False</td>\n",
       "    </tr>\n",
       "    <tr>\n",
       "      <th>1867278</th>\n",
       "      <td>250</td>\n",
       "      <td>1</td>\n",
       "      <td>d6bd6b18a4384e2bee35d512533d1e90d6d40953b405c8...</td>\n",
       "      <td>541d9e89fcbd48ed2be6049a23f8cffbf4b492adea1c43...</td>\n",
       "      <td>3963ef52df4b1e445148010e5c5ce5206ca795e32ceb1e...</td>\n",
       "      <td>3963ef52df4b1e445148010e5c5ce5206ca795e32ceb1e...</td>\n",
       "      <td>1000</td>\n",
       "      <td>1</td>\n",
       "      <td>250</td>\n",
       "      <td>1</td>\n",
       "      <td>...</td>\n",
       "      <td>False</td>\n",
       "      <td>False</td>\n",
       "      <td>False</td>\n",
       "      <td>False</td>\n",
       "      <td>False</td>\n",
       "      <td>False</td>\n",
       "      <td>False</td>\n",
       "      <td>False</td>\n",
       "      <td>False</td>\n",
       "      <td>False</td>\n",
       "    </tr>\n",
       "  </tbody>\n",
       "</table>\n",
       "<p>1867279 rows × 110 columns</p>\n",
       "</div>"
      ],
      "text/plain": [
       "         VlReceitaEsperada  NrParcelas  \\\n",
       "0                        0           1   \n",
       "1                      528           1   \n",
       "2                       66           1   \n",
       "3                      818           1   \n",
       "4                      188          10   \n",
       "...                    ...         ...   \n",
       "1867274                671           1   \n",
       "1867275                852           1   \n",
       "1867276                476           1   \n",
       "1867277                250           1   \n",
       "1867278                250           1   \n",
       "\n",
       "                                                 NmProduto  \\\n",
       "0        9cdafbed10c0d51c62c70109841e569900f978bb7524ef...   \n",
       "1        c68cb6c1bac51b9b18fe707b35d142a54e67f06780c358...   \n",
       "2        f22e67f434917d011b2a3f8463d63bdf4acf6ddd14840b...   \n",
       "3        f22e67f434917d011b2a3f8463d63bdf4acf6ddd14840b...   \n",
       "4        0c4302ab1690d261d113a63cb27c17d6e4c04edb378b5b...   \n",
       "...                                                    ...   \n",
       "1867274  d6bd6b18a4384e2bee35d512533d1e90d6d40953b405c8...   \n",
       "1867275  d6bd6b18a4384e2bee35d512533d1e90d6d40953b405c8...   \n",
       "1867276  d6bd6b18a4384e2bee35d512533d1e90d6d40953b405c8...   \n",
       "1867277  d6bd6b18a4384e2bee35d512533d1e90d6d40953b405c8...   \n",
       "1867278  d6bd6b18a4384e2bee35d512533d1e90d6d40953b405c8...   \n",
       "\n",
       "                                              GrupoProduto  \\\n",
       "0        54eb3384177a6f1bce36ebf478c32787a128b43144b901...   \n",
       "1        243f77a913aad6b64b4c73b481c94fce10c1554fbe86d1...   \n",
       "2        0048e821bb69ffdcd8f340d7d83aaefadea6b47377089b...   \n",
       "3        0048e821bb69ffdcd8f340d7d83aaefadea6b47377089b...   \n",
       "4        541d9e89fcbd48ed2be6049a23f8cffbf4b492adea1c43...   \n",
       "...                                                    ...   \n",
       "1867274  541d9e89fcbd48ed2be6049a23f8cffbf4b492adea1c43...   \n",
       "1867275  541d9e89fcbd48ed2be6049a23f8cffbf4b492adea1c43...   \n",
       "1867276  541d9e89fcbd48ed2be6049a23f8cffbf4b492adea1c43...   \n",
       "1867277  541d9e89fcbd48ed2be6049a23f8cffbf4b492adea1c43...   \n",
       "1867278  541d9e89fcbd48ed2be6049a23f8cffbf4b492adea1c43...   \n",
       "\n",
       "                                                 NmTomador  \\\n",
       "0        dc937b59892604f5a86ac96936cd7ff09e25f18ae6b758...   \n",
       "1        7b0c6f6a92137fc18c4accdaf9dc8eb1b7d105496a126e...   \n",
       "2        418fe50aa1ba9b6660f2afa031b6adf31bf7e7e892d43e...   \n",
       "3        9023625c4850288ff84f2dfa62d5bb0a4a6465c82e3c60...   \n",
       "4        d8629d6d970adfc91f2d7ea3c40ae8004883e9df78555f...   \n",
       "...                                                    ...   \n",
       "1867274  3963ef52df4b1e445148010e5c5ce5206ca795e32ceb1e...   \n",
       "1867275  3963ef52df4b1e445148010e5c5ce5206ca795e32ceb1e...   \n",
       "1867276  3963ef52df4b1e445148010e5c5ce5206ca795e32ceb1e...   \n",
       "1867277  3963ef52df4b1e445148010e5c5ce5206ca795e32ceb1e...   \n",
       "1867278  3963ef52df4b1e445148010e5c5ce5206ca795e32ceb1e...   \n",
       "\n",
       "                                            GrupoEconomico  PremioBrutoModDiv  \\\n",
       "0        dc937b59892604f5a86ac96936cd7ff09e25f18ae6b758...               4349   \n",
       "1        e468ad81880f4156af507e2d09f2c6c1746f356460dce0...               2346   \n",
       "2        418fe50aa1ba9b6660f2afa031b6adf31bf7e7e892d43e...                437   \n",
       "3        9023625c4850288ff84f2dfa62d5bb0a4a6465c82e3c60...               5453   \n",
       "4        d8629d6d970adfc91f2d7ea3c40ae8004883e9df78555f...               1878   \n",
       "...                                                    ...                ...   \n",
       "1867274  3963ef52df4b1e445148010e5c5ce5206ca795e32ceb1e...               2686   \n",
       "1867275  3963ef52df4b1e445148010e5c5ce5206ca795e32ceb1e...               3410   \n",
       "1867276  3963ef52df4b1e445148010e5c5ce5206ca795e32ceb1e...               1905   \n",
       "1867277  3963ef52df4b1e445148010e5c5ce5206ca795e32ceb1e...               1000   \n",
       "1867278  3963ef52df4b1e445148010e5c5ce5206ca795e32ceb1e...               1000   \n",
       "\n",
       "         Parcela  ValorParcela  PeriodicidadeMes  ...  \\\n",
       "0              1             0                 1  ...   \n",
       "1              1           528                 1  ...   \n",
       "2              1            66                 1  ...   \n",
       "3              1           818                 1  ...   \n",
       "4              2            19                 1  ...   \n",
       "...          ...           ...               ...  ...   \n",
       "1867274        1           671                 1  ...   \n",
       "1867275        1           852                 1  ...   \n",
       "1867276        1           476                 1  ...   \n",
       "1867277        1           250                 1  ...   \n",
       "1867278        1           250                 1  ...   \n",
       "\n",
       "        NOME_SEGURADORA_FINAL_ef29ca0b017f73a647d7b93280e327d67d04c9652505835f839961ffe016abb7  \\\n",
       "0                                                    False                                       \n",
       "1                                                    False                                       \n",
       "2                                                    False                                       \n",
       "3                                                    False                                       \n",
       "4                                                    False                                       \n",
       "...                                                    ...                                       \n",
       "1867274                                              False                                       \n",
       "1867275                                              False                                       \n",
       "1867276                                              False                                       \n",
       "1867277                                              False                                       \n",
       "1867278                                              False                                       \n",
       "\n",
       "         NOME_SEGURADORA_FINAL_ef57e5a22f3c1af190f69cf24780a85ab939296b8a2110f10345c7332612e229  \\\n",
       "0                                                    False                                        \n",
       "1                                                    False                                        \n",
       "2                                                    False                                        \n",
       "3                                                    False                                        \n",
       "4                                                    False                                        \n",
       "...                                                    ...                                        \n",
       "1867274                                              False                                        \n",
       "1867275                                              False                                        \n",
       "1867276                                              False                                        \n",
       "1867277                                              False                                        \n",
       "1867278                                              False                                        \n",
       "\n",
       "         NOME_SEGURADORA_FINAL_efa51d1b726310b3be0cedf18cbabe6c68897d1e2a3cdeff5340db5f5033174b  \\\n",
       "0                                                    False                                        \n",
       "1                                                    False                                        \n",
       "2                                                    False                                        \n",
       "3                                                    False                                        \n",
       "4                                                    False                                        \n",
       "...                                                    ...                                        \n",
       "1867274                                              False                                        \n",
       "1867275                                              False                                        \n",
       "1867276                                              False                                        \n",
       "1867277                                              False                                        \n",
       "1867278                                              False                                        \n",
       "\n",
       "         NOME_SEGURADORA_FINAL_f196974014aad82f9f373bc80500b53092da47b34c67e5a7122ec938fe5775d4  \\\n",
       "0                                                    False                                        \n",
       "1                                                    False                                        \n",
       "2                                                    False                                        \n",
       "3                                                    False                                        \n",
       "4                                                    False                                        \n",
       "...                                                    ...                                        \n",
       "1867274                                              False                                        \n",
       "1867275                                              False                                        \n",
       "1867276                                              False                                        \n",
       "1867277                                              False                                        \n",
       "1867278                                              False                                        \n",
       "\n",
       "        NOME_SEGURADORA_FINAL_f47000b596b290f24cb54e3a8d7f11be387c60d3cfa521817955b6b3c6ae59fa  \\\n",
       "0                                                    False                                       \n",
       "1                                                    False                                       \n",
       "2                                                    False                                       \n",
       "3                                                    False                                       \n",
       "4                                                    False                                       \n",
       "...                                                    ...                                       \n",
       "1867274                                              False                                       \n",
       "1867275                                              False                                       \n",
       "1867276                                              False                                       \n",
       "1867277                                              False                                       \n",
       "1867278                                              False                                       \n",
       "\n",
       "         NOME_SEGURADORA_FINAL_f48e40067a48047401e9e4bcc18fea55cfa0b88e9c3468f7bb0bc897609d712d  \\\n",
       "0                                                    False                                        \n",
       "1                                                    False                                        \n",
       "2                                                    False                                        \n",
       "3                                                    False                                        \n",
       "4                                                    False                                        \n",
       "...                                                    ...                                        \n",
       "1867274                                              False                                        \n",
       "1867275                                              False                                        \n",
       "1867276                                              False                                        \n",
       "1867277                                              False                                        \n",
       "1867278                                              False                                        \n",
       "\n",
       "         NOME_SEGURADORA_FINAL_f6b33afc342d2988e4c750108b804763b86da7fe0a2cd4e46fe4b423874dca2f  \\\n",
       "0                                                    False                                        \n",
       "1                                                    False                                        \n",
       "2                                                    False                                        \n",
       "3                                                    False                                        \n",
       "4                                                    False                                        \n",
       "...                                                    ...                                        \n",
       "1867274                                              False                                        \n",
       "1867275                                              False                                        \n",
       "1867276                                              False                                        \n",
       "1867277                                              False                                        \n",
       "1867278                                              False                                        \n",
       "\n",
       "         NOME_SEGURADORA_FINAL_fb28df294b075e74b80a5c02f4555c6031570106163066c246d482d112cabe1a  \\\n",
       "0                                                    False                                        \n",
       "1                                                    False                                        \n",
       "2                                                    False                                        \n",
       "3                                                    False                                        \n",
       "4                                                    False                                        \n",
       "...                                                    ...                                        \n",
       "1867274                                              False                                        \n",
       "1867275                                              False                                        \n",
       "1867276                                              False                                        \n",
       "1867277                                              False                                        \n",
       "1867278                                              False                                        \n",
       "\n",
       "         NOME_SEGURADORA_FINAL_fe11e9c51a77753fab092e2968abfbe249ba79e8d93ea93273bf3b8bc06ebc94  \\\n",
       "0                                                    False                                        \n",
       "1                                                    False                                        \n",
       "2                                                    False                                        \n",
       "3                                                    False                                        \n",
       "4                                                    False                                        \n",
       "...                                                    ...                                        \n",
       "1867274                                              False                                        \n",
       "1867275                                              False                                        \n",
       "1867276                                              False                                        \n",
       "1867277                                              False                                        \n",
       "1867278                                              False                                        \n",
       "\n",
       "         NOME_SEGURADORA_FINAL_fedb1b2600b69c711cb7b2a5fde86df6c0f8623cd7e525e91915fe485feabc8a  \n",
       "0                                                    False                                       \n",
       "1                                                    False                                       \n",
       "2                                                    False                                       \n",
       "3                                                    False                                       \n",
       "4                                                    False                                       \n",
       "...                                                    ...                                       \n",
       "1867274                                              False                                       \n",
       "1867275                                              False                                       \n",
       "1867276                                              False                                       \n",
       "1867277                                              False                                       \n",
       "1867278                                              False                                       \n",
       "\n",
       "[1867279 rows x 110 columns]"
      ]
     },
     "execution_count": 27,
     "metadata": {},
     "output_type": "execute_result"
    }
   ],
   "source": [
    "pd.read_csv(r'~\\Desktop\\tcc_mba_icmc\\data\\data_curated.csv')"
   ]
  },
  {
   "cell_type": "markdown",
   "metadata": {},
   "source": [
    "# Paleta de cores"
   ]
  },
  {
   "cell_type": "code",
   "execution_count": 34,
   "metadata": {},
   "outputs": [],
   "source": [
    "with open(r\"../reports/paleta_cores.json\") as f:\n",
    "    data = json.load(f)\n",
    "    paleta = data['colors']['dataColors']\n",
    "    BadPalette = data['colors']['dataColorsBadVariation']\n",
    "    GoodPalette = data['colors']['dataColorsGoodVariation']\n",
    "    PrincipalPallete = data['colors']['dataColorsPrincipalVariation']\n",
    "\n",
    "# Aplicando a paleta personalizada ao Seaborn \n",
    "sns.set_palette(paleta)"
   ]
  },
  {
   "cell_type": "markdown",
   "metadata": {},
   "source": [
    "# Análise"
   ]
  },
  {
   "cell_type": "markdown",
   "metadata": {},
   "source": [
    "## Visão Geral"
   ]
  },
  {
   "cell_type": "code",
   "execution_count": null,
   "metadata": {},
   "outputs": [],
   "source": [
    "print(\n",
    "    # df_sem_canc.groupby('Inadimplente_Atual')['ValorParcela'].sum(), \n",
    "    '\\n', \"-\"*100, '\\n',\n",
    "    df_sem_canc.groupby('Esteve_Inadimplente?')['ValorParcela'].sum()\n",
    "    )"
   ]
  },
  {
   "cell_type": "code",
   "execution_count": null,
   "metadata": {},
   "outputs": [],
   "source": [
    "print(\n",
    "    # df_sem_canc.groupby('Inadimplente_Atual')['PremioBrutoModDiv'].sum(), \n",
    "    '\\n', \"-\"*100, '\\n',\n",
    "    df_sem_canc.groupby('Esteve_Inadimplente?')['PremioBrutoModDiv'].sum()\n",
    "    )"
   ]
  },
  {
   "cell_type": "code",
   "execution_count": null,
   "metadata": {},
   "outputs": [],
   "source": [
    "print(\n",
    "    # df_sem_canc['Inadimplente_Atual'].value_counts(dropna=False), \n",
    "    '\\n', \"-\"*100, '\\n',\n",
    "    df_sem_canc['Esteve_Inadimplente?'].value_counts()\n",
    "    )"
   ]
  },
  {
   "cell_type": "code",
   "execution_count": null,
   "metadata": {},
   "outputs": [],
   "source": [
    "df['DifData'].apply(lambda x: 'SIM' if x < 0 else 'NÃO').value_counts()\n",
    "\n"
   ]
  },
  {
   "cell_type": "markdown",
   "metadata": {},
   "source": [
    "## Matriz de correlação"
   ]
  },
  {
   "cell_type": "code",
   "execution_count": null,
   "metadata": {},
   "outputs": [],
   "source": [
    "df_sem_canc.info()"
   ]
  },
  {
   "cell_type": "code",
   "execution_count": null,
   "metadata": {},
   "outputs": [],
   "source": [
    "df_num = df_sem_canc.select_dtypes(include=['int32', 'int64'])\n",
    "\n",
    "# Criar a matriz de correlação \n",
    "matriz_correlacao = df_num.corr() \n",
    "# Plotar a matriz de correlação usando o Seaborn \n",
    "plt.figure(figsize=(16, 8)) \n",
    "sns.heatmap(matriz_correlacao, annot=True, cmap='coolwarm', center=0) \n",
    "plt.title('Matriz de Correlação') \n",
    "plt.show()"
   ]
  },
  {
   "cell_type": "code",
   "execution_count": null,
   "metadata": {},
   "outputs": [],
   "source": [
    "# Calcular correlação com a coluna target \n",
    "correlacoes = df_num.corr()['Esteve_Inadimplente?_num'].drop('Esteve_Inadimplente?_num') \n",
    "# Transformar a série de correlações em um DataFrame para visualização \n",
    "matriz_correlacao2 = pd.DataFrame(correlacoes) \n",
    "# Renomear a coluna para clareza \n",
    "matriz_correlacao2.columns = ['correlation_with_target'] \n",
    "plt.figure(figsize=(16, 8)) \n",
    "sns.heatmap(matriz_correlacao2, annot=True, cmap='coolwarm', center=0, vmax=matriz_correlacao2.max().iloc[0], vmin=matriz_correlacao2.min().iloc[0])\n",
    "plt.title('Matriz de Correlação') \n",
    "plt.show()"
   ]
  },
  {
   "cell_type": "code",
   "execution_count": null,
   "metadata": {},
   "outputs": [],
   "source": [
    "matriz_correlacao2.sort_values(ascending=False, by='correlation_with_target')"
   ]
  },
  {
   "cell_type": "markdown",
   "metadata": {},
   "source": [
    "## Análise comissão"
   ]
  },
  {
   "cell_type": "code",
   "execution_count": null,
   "metadata": {},
   "outputs": [],
   "source": [
    "grouped_df = df_final.groupby('Esteve_Inadimplente?')['ValorParcela'].sum().reset_index()\n",
    "#Criando o gráfico de barras com a paleta personalizada \n",
    "fig, ax = plt.subplots(figsize=(8, 6))\n",
    "\n",
    "# Limite do eixo y\n",
    "# plt.ylim(0, 110)\n",
    "\n",
    "# Adicionando uma borda ao redor do gráfico \n",
    "rect = patches.FancyBboxPatch(\n",
    "    (0, 0), 1, 1, \n",
    "    boxstyle=\"round,pad=0.15\", edgecolor='#000000', linewidth=1.5, transform=ax.transAxes, clip_on=False,\n",
    "    facecolor='#ffffff') \n",
    "ax.add_patch(rect)\n",
    "sns.barplot(x='Esteve_Inadimplente?', y='ValorParcela', data=grouped_df, palette=paleta[:2], ax=ax)\n",
    "\n",
    "# Adicionando os valores nas barras \n",
    "for p in ax.patches[-2:]: \n",
    "    ax.annotate(\n",
    "        'R${:,.0f}'.format(p.get_height()), \n",
    "        (p.get_x() + p.get_width() / 2., p.get_height()), \n",
    "        ha='center', \n",
    "        va='baseline', \n",
    "        fontsize=10, color='black', xytext=(0, 5), textcoords='offset points')\n",
    "plt.xticks(rotation=0)\n",
    "# # Alterando a cor de fundo do gráfico \n",
    "ax.set_facecolor('#ffffff')\n",
    "fig.patch.set_facecolor(\"#fff8ed\")\n",
    "fig.patch.set_alpha(0.7)\n",
    "\n",
    "# Adicionando títulos e labels\n",
    "plt.title('Distribuição Valor Comissão')\n",
    "plt.xlabel('Inadimplente?')\n",
    "plt.ylabel('Valor Comissão')\n",
    "\n",
    "# Exibindo o gráfico\n",
    "plt.show()\n"
   ]
  },
  {
   "cell_type": "code",
   "execution_count": null,
   "metadata": {},
   "outputs": [],
   "source": [
    "grouped_df = df_final.groupby('Esteve_Inadimplente?')['ValorParcela'].sum().reset_index()"
   ]
  },
  {
   "cell_type": "code",
   "execution_count": null,
   "metadata": {},
   "outputs": [],
   "source": [
    "df_final[df_final['ValorParcela'] ==  df_final['ValorParcela'].max()]"
   ]
  },
  {
   "cell_type": "code",
   "execution_count": null,
   "metadata": {},
   "outputs": [],
   "source": [
    "for p in ax.patches[-2:]: \n",
    "    print('R${:,.0f}'.format(p.get_height()))\n",
    "    print(f'R${round(p.get_height(), 6)}')"
   ]
  },
  {
   "cell_type": "markdown",
   "metadata": {},
   "source": [
    "## Análise seguradora"
   ]
  },
  {
   "cell_type": "code",
   "execution_count": null,
   "metadata": {},
   "outputs": [],
   "source": [
    "df_sem_canc.columns"
   ]
  },
  {
   "cell_type": "code",
   "execution_count": null,
   "metadata": {},
   "outputs": [],
   "source": [
    "df_sem_canc[df_sem_canc['Esteve_Inadimplente?'] == 'SIM'].groupby('NOME_SEGURADORA_FINAL')['ValorParcela'].sum().reset_index().sort_values(by='ValorParcela', ascending=False).head()"
   ]
  },
  {
   "cell_type": "code",
   "execution_count": 46,
   "metadata": {},
   "outputs": [],
   "source": [
    "# Agrupar e somar os valores de 'ValorParcela'\n",
    "# df_sem_canc.groupby(['NOME_SEGURADORA_FINAL', 'Esteve_Inadimplente?'])['ValorParcela'].sum().reset_index()\n",
    "seguradoras_maiores_devedoras = df_sem_canc[df_sem_canc['Esteve_Inadimplente?_num'] == 1].groupby(['NOME_SEGURADORA_FINAL', 'Esteve_Inadimplente?'])['ValorParcela'].sum().reset_index().sort_values(by='ValorParcela', ascending=False).head(10)\n"
   ]
  },
  {
   "cell_type": "code",
   "execution_count": null,
   "metadata": {},
   "outputs": [],
   "source": [
    "df_sem_canc[df_sem_canc['NOME_SEGURADORA_FINAL'].isin(seguradoras_maiores_devedoras['NOME_SEGURADORA_FINAL'][0::])].groupby(['NOME_SEGURADORA_FINAL', 'Esteve_Inadimplente?'])['ValorParcela'].sum().reset_index()"
   ]
  },
  {
   "cell_type": "code",
   "execution_count": null,
   "metadata": {},
   "outputs": [],
   "source": []
  },
  {
   "cell_type": "code",
   "execution_count": null,
   "metadata": {},
   "outputs": [],
   "source": [
    "# Agrupar e somar os valores de 'ValorParcela' para seguradoras maiores devedoras \n",
    "df_agrupado = (\n",
    "    df_sem_canc[df_sem_canc['NOME_SEGURADORA_FINAL'].isin(seguradoras_maiores_devedoras['NOME_SEGURADORA_FINAL'][0::])]\n",
    "    .groupby(['NOME_SEGURADORA_FINAL', 'Esteve_Inadimplente?'])['ValorParcela']\n",
    "    .sum()\n",
    "    .reset_index() \n",
    ")\n",
    "\n",
    "# Dicionário com os valores \n",
    "hash_dict = {\n",
    "    \"160a3a39ca881569e42065a74c3fb438090044d57f19d50f98dc5574c4acaab3\": 1,\n",
    "    \"228088b037946fe6c4025b8e23f5f01b934561a8c6e441fa950aa8f24513498f\": 2,\n",
    "    \"22ac161e69ac52fde9d8db45a533bcab9eebf3f6c5be36e46c86eaf2f7a62dc2\": 3,\n",
    "    \"4b8fd8ac52c790f571819a8aecc3784b1dd7d31beda6d2ff47a4939561f928c0\": 4,\n",
    "    \"4ef3c8eac2fe13440d323c59d704d51d6f8a5e34ecb55a65c38830d9f110b5bd\": 5,\n",
    "    \"58919c823ea092e0a7d32762a06d4bb7a6f369487761f0d30ac16784479a1917\": 6,\n",
    "    \"9a704773a99578a4cb7c8d7fd43421921eb6db0967bf6c0d97c49d4432d04078\": 7,\n",
    "    \"c9c800b059d082d0d51e221848821313a76bf3d25dc538cc90cb77bdd84b83d4\": 8,\n",
    "    \"ce7112b1bb7af451acc6c360998019acfde75d2dcb1527ec32c40605975bcd6e\": 9,\n",
    "    \"eece1c4069d46119e73246c56fe3ffadf350638f31276fcf2080cac414743141\": 10\n",
    "}\n",
    "\n",
    "# Adicionar a coluna 'numero' ao DataFrame df_agrupado \n",
    "df_agrupado['numero'] = df_agrupado['NOME_SEGURADORA_FINAL'].map(hash_dict)\n",
    "\n",
    "# Criar o gráfico de barras usando Seaborn \n",
    "plt.figure(figsize=(10, 6)) \n",
    "sns.barplot(data=df_agrupado, x='numero', y='ValorParcela', hue='Esteve_Inadimplente?') \n",
    "plt.title('Soma de ValorParcela por Seguradora e Status de Inadimplência') \n",
    "plt.xlabel('Seguradora') \n",
    "plt.ylabel('Soma de ValorParcela') \n",
    "plt.legend(title='Esteve Inadimplente?') \n",
    "plt.show()"
   ]
  },
  {
   "cell_type": "code",
   "execution_count": null,
   "metadata": {},
   "outputs": [],
   "source": [
    "# Calcular o total de ValorParcela por seguradora\n",
    "total_por_seguradora = df_sem_canc.groupby('NOME_SEGURADORA_FINAL')['ValorParcela'].sum()\n",
    "\n",
    "# Calcular o total de ValorParcela onde Esteve_Inadimplente? é 'SIM' por seguradora\n",
    "total_sim_por_seguradora = df_sem_canc[df_sem_canc['Esteve_Inadimplente?'] == 'SIM'].groupby('NOME_SEGURADORA_FINAL')['ValorParcela'].sum()\n",
    "\n",
    "# Calcular a taxa de inadimplência por seguradora\n",
    "taxa_de_inadimplencia = (total_sim_por_seguradora / total_por_seguradora).fillna(0)\n",
    "\n",
    "# Adicionar a coluna taxa_de_inadimplencia ao DataFrame\n",
    "df_agrupado = df_agrupado.merge(taxa_de_inadimplencia.rename('taxa_de_inadimplencia'), on='NOME_SEGURADORA_FINAL', how='left', suffixes=('', '_drop')).filter(regex='^(?!.*_drop)')\n",
    "\n",
    "df_agrupado['taxa_de_inadimplencia'] = df_agrupado['taxa_de_inadimplencia'].round(2)\n",
    "df_agrupado"
   ]
  },
  {
   "cell_type": "code",
   "execution_count": null,
   "metadata": {},
   "outputs": [],
   "source": [
    "df_agrupado['taxa_de_inadimplencia'].sort_values(ascending=False)"
   ]
  },
  {
   "cell_type": "code",
   "execution_count": null,
   "metadata": {},
   "outputs": [],
   "source": [
    "plt.figure(figsize=(10, 6)) \n",
    "ax = sns.barplot(data=df_agrupado, x='numero', y='taxa_de_inadimplencia') \n",
    "ax.bar_label(ax.containers[0])\n",
    "plt.title('Soma de ValorParcela por Seguradora e Status de Inadimplência') \n",
    "plt.xlabel('Seguradora') \n",
    "plt.ylabel('Soma de ValorParcela') \n",
    "plt.legend(title='Esteve Inadimplente?') \n",
    "plt.show()\n",
    "\n"
   ]
  },
  {
   "cell_type": "code",
   "execution_count": null,
   "metadata": {},
   "outputs": [],
   "source": [
    "df_sem_canc['NOME_SEGURADORA_FINAL'].nunique()"
   ]
  },
  {
   "cell_type": "markdown",
   "metadata": {},
   "source": [
    "## Análise trimestral"
   ]
  },
  {
   "cell_type": "code",
   "execution_count": null,
   "metadata": {},
   "outputs": [],
   "source": [
    "import json\n",
    "import matplotlib.patheffects as PathEffects\n",
    "import matplotlib.patches as patches\n",
    "import seaborn as sns \n",
    "import matplotlib.pyplot as plt\n",
    "\n",
    "with open(r\"../reports/paleta_cores.json\") as f:\n",
    "    data = json.load(f)\n",
    "    paleta = data['colors']['dataColors']\n",
    "    BadPalette = data['colors']['dataColorsBadVariation']\n",
    "    GoodPalette = data['colors']['dataColorsGoodVariation']\n",
    "    PrincipalPallete = data['colors']['dataColorsPrincipalVariation']\n",
    "\n",
    "def grafico_classes(df, titulo):\n",
    "    class_counts = df['target'].value_counts(normalize=True) * 100 \n",
    "    class_counts = class_counts.round(1)\n",
    "    class_counts = class_counts.reset_index() \n",
    "    class_counts.columns = ['target', 'percentual'] \n",
    "    class_counts['target'] = class_counts['target'].map({0:'Não', 1:'Sim'})\n",
    "\n",
    "    # Criando o gráfico de barras com a paleta personalizada \n",
    "    fig, ax = plt.subplots(figsize=(8, 6))\n",
    "    # Adicionando rótulos e título\n",
    "    plt.xlabel('Inadimplente?')\n",
    "    plt.ylabel('Quantidade de Inadimplência')\n",
    "    plt.title(titulo)\n",
    "\n",
    "    # Limite do eixo y\n",
    "    plt.ylim(0, 110)\n",
    "\n",
    "    # Adicionando uma borda ao redor do gráfico \n",
    "    rect = patches.FancyBboxPatch(\n",
    "        (0, 0), 1, 1, \n",
    "        boxstyle=\"round,pad=0.15\", edgecolor='#000000', linewidth=1.5, transform=ax.transAxes, clip_on=False,\n",
    "        facecolor='#ffffff') \n",
    "    ax.add_patch(rect)\n",
    "    sns.barplot(x='target', y='percentual', data=class_counts, palette=paleta[:2], ax=ax)\n",
    "\n",
    "    # Adicionando os valores nas barras \n",
    "    for p in ax.patches[-2:]: \n",
    "        ax.annotate(\n",
    "            f'{p.get_height()}%', \n",
    "            (p.get_x() + p.get_width() / 2., p.get_height()), \n",
    "            ha='center', \n",
    "            va='baseline', \n",
    "            fontsize=10, color='black', xytext=(0, 5), textcoords='offset points')\n",
    "\n",
    "    # # Alterando a cor de fundo do gráfico \n",
    "    ax.set_facecolor('#ffffff')\n",
    "    fig.patch.set_facecolor(\"#fff8ed\")\n",
    "    fig.patch.set_alpha(0.7)\n",
    "\n",
    "    # Mostrando o gráfico\n",
    "    return plt.show()"
   ]
  },
  {
   "cell_type": "code",
   "execution_count": null,
   "metadata": {},
   "outputs": [],
   "source": [
    "df_final[df_final['Esteve_Inadimplente?_num'] == 1].groupby('trimestre').agg({'ValorParcela': 'sum'}).reset_index(names='Trimestre')\n",
    "\n"
   ]
  },
  {
   "cell_type": "code",
   "execution_count": null,
   "metadata": {},
   "outputs": [],
   "source": [
    "\n",
    "\n",
    "# # Dados de exemplo\n",
    "# data = df_final[df_final['Esteve_Inadimplente?_num'] == 1].groupby('trimestre').agg({'ValorParcela': 'sum'}).reset_index(names='Trimestre')\n",
    "\n",
    "\n",
    "# # Calculando os valores cumulativos\n",
    "# data['Cumulativo'] = np.cumsum(data['ValorParcela'])\n",
    "\n",
    "# # Adicionando o valor inicial\n",
    "# data['Cumulativo'] = np.insert(data['Cumulativo'], 0, 0)[:-1]\n",
    "\n",
    "# # Adicionando a linha de total\n",
    "# total = data['ValorParcela'].sum()\n",
    "# # data = data.append({'Trimestre': 'Total', 'ValorParcela': total, 'Cumulativo': data['Cumulativo'].iloc[-1] + total}, ignore_index=True)\n",
    "# total_row = pd.DataFrame({'Trimestre': ['Total'], 'ValorParcela': [total], 'Cumulativo': [data['Cumulativo'].iloc[-1] + total]})\n",
    "# df = pd.concat([df, total_row], ignore_index=True)\n",
    "\n",
    "\n",
    "# # Criando o gráfico de cascata\n",
    "# fig, ax = plt.subplots(figsize=(10, 6))\n",
    "# sns.barplot(x='Trimestre', y='ValorParcela', data=df, ax=ax, palette='viridis')\n",
    "\n",
    "# # Adicionando linhas para conectar as barras\n",
    "# for i in range(1, len(df['Trimestre'])):\n",
    "#     ax.plot([i-1, i], [df['Cumulativo'][i-1], df['Cumulativo'][i]], color='black')\n",
    "\n",
    "# # Ajustando o gráfico\n",
    "# ax.set_title('Gráfico de Cascata')\n",
    "# ax.set_xlabel('Trimestre')\n",
    "# ax.set_ylabel('ValorParcela')\n",
    "\n",
    "# plt.show()\n",
    "\n"
   ]
  },
  {
   "cell_type": "markdown",
   "metadata": {},
   "source": [
    "## Análise Tomador"
   ]
  },
  {
   "cell_type": "markdown",
   "metadata": {},
   "source": [
    "## Análise Parcelas"
   ]
  },
  {
   "cell_type": "code",
   "execution_count": null,
   "metadata": {},
   "outputs": [],
   "source": []
  }
 ],
 "metadata": {
  "kernelspec": {
   "display_name": "Python 3",
   "language": "python",
   "name": "python3"
  },
  "language_info": {
   "codemirror_mode": {
    "name": "ipython",
    "version": 3
   },
   "file_extension": ".py",
   "mimetype": "text/x-python",
   "name": "python",
   "nbconvert_exporter": "python",
   "pygments_lexer": "ipython3",
   "version": "3.12.8"
  }
 },
 "nbformat": 4,
 "nbformat_minor": 2
}
