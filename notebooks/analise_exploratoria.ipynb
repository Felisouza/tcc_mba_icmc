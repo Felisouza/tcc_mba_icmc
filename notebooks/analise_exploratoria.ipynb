{
 "cells": [
  {
   "cell_type": "markdown",
   "metadata": {},
   "source": [
    "# Libs"
   ]
  },
  {
   "cell_type": "code",
   "execution_count": 1,
   "metadata": {},
   "outputs": [],
   "source": [
    "import pandas as pd\n",
    "import seaborn as sns \n",
    "import matplotlib.pyplot as plt\n",
    "import numpy as np\n"
   ]
  },
  {
   "cell_type": "code",
   "execution_count": 2,
   "metadata": {},
   "outputs": [],
   "source": [
    "# Configurar pandas para mostrar o valor completo \n",
    "pd.set_option('display.float_format', '{:.10f}'.format)"
   ]
  },
  {
   "cell_type": "markdown",
   "metadata": {},
   "source": [
    "# Importando dados"
   ]
  },
  {
   "cell_type": "code",
   "execution_count": 3,
   "metadata": {},
   "outputs": [
    {
     "name": "stderr",
     "output_type": "stream",
     "text": [
      "C:\\Users\\felipebatista\\AppData\\Local\\Temp\\ipykernel_62448\\1787040171.py:1: DtypeWarning: Columns (1,11,15,26,32,34,35,36) have mixed types. Specify dtype option on import or set low_memory=False.\n",
      "  df = pd.read_csv('https://media.githubusercontent.com/media/Felisouza/tcc_mba_icmc/refs/heads/main/data/data.csv')\n"
     ]
    },
    {
     "data": {
      "text/html": [
       "<div>\n",
       "<style scoped>\n",
       "    .dataframe tbody tr th:only-of-type {\n",
       "        vertical-align: middle;\n",
       "    }\n",
       "\n",
       "    .dataframe tbody tr th {\n",
       "        vertical-align: top;\n",
       "    }\n",
       "\n",
       "    .dataframe thead th {\n",
       "        text-align: right;\n",
       "    }\n",
       "</style>\n",
       "<table border=\"1\" class=\"dataframe\">\n",
       "  <thead>\n",
       "    <tr style=\"text-align: right;\">\n",
       "      <th></th>\n",
       "      <th>DsStatus</th>\n",
       "      <th>UltimoMotivoEndosso</th>\n",
       "      <th>VlReceitaEsperada</th>\n",
       "      <th>DtPrimeiraParcela</th>\n",
       "      <th>NrParcelas</th>\n",
       "      <th>NmProduto</th>\n",
       "      <th>GrupoProduto</th>\n",
       "      <th>NOME_SEGURADORA_FINAL</th>\n",
       "      <th>Balcao</th>\n",
       "      <th>FlgHabitacao</th>\n",
       "      <th>...</th>\n",
       "      <th>StatusData</th>\n",
       "      <th>StatusValor</th>\n",
       "      <th>DifParcela</th>\n",
       "      <th>DifData</th>\n",
       "      <th>TIPO INADIMPLÊNCIA</th>\n",
       "      <th>NOTIFICAÇÕES</th>\n",
       "      <th>STATUS</th>\n",
       "      <th>STATUS PRÊMIO</th>\n",
       "      <th>INADIMPLÊNTE?</th>\n",
       "      <th>Esteve_Inadimplente?</th>\n",
       "    </tr>\n",
       "  </thead>\n",
       "  <tbody>\n",
       "    <tr>\n",
       "      <th>0</th>\n",
       "      <td>NaN</td>\n",
       "      <td>NaN</td>\n",
       "      <td>12222.4501953125</td>\n",
       "      <td>NaN</td>\n",
       "      <td>1.0000000000</td>\n",
       "      <td>2983630b65205bf108d9d69c960f67a8361b869201ad38...</td>\n",
       "      <td>8d76d9752f0ebba3365fd8bc593b811c8aa48160114978...</td>\n",
       "      <td>0feaa5e88e73d8e7eefc6d92c9bdb298a83b424e5e1902...</td>\n",
       "      <td>dc937b59892604f5a86ac96936cd7ff09e25f18ae6b758...</td>\n",
       "      <td>Fora Habitacao</td>\n",
       "      <td>...</td>\n",
       "      <td>Comissão não recebida</td>\n",
       "      <td>Comissão não recebida</td>\n",
       "      <td>12222.4500000000</td>\n",
       "      <td>-9133.0000000000</td>\n",
       "      <td>NaN</td>\n",
       "      <td>NaN</td>\n",
       "      <td>NaN</td>\n",
       "      <td>NaN</td>\n",
       "      <td>NaN</td>\n",
       "      <td>NÃO</td>\n",
       "    </tr>\n",
       "    <tr>\n",
       "      <th>1</th>\n",
       "      <td>NaN</td>\n",
       "      <td>NaN</td>\n",
       "      <td>12222.4501953125</td>\n",
       "      <td>NaN</td>\n",
       "      <td>1.0000000000</td>\n",
       "      <td>2983630b65205bf108d9d69c960f67a8361b869201ad38...</td>\n",
       "      <td>8d76d9752f0ebba3365fd8bc593b811c8aa48160114978...</td>\n",
       "      <td>0feaa5e88e73d8e7eefc6d92c9bdb298a83b424e5e1902...</td>\n",
       "      <td>dc937b59892604f5a86ac96936cd7ff09e25f18ae6b758...</td>\n",
       "      <td>Fora Habitacao</td>\n",
       "      <td>...</td>\n",
       "      <td>Comissão não recebida</td>\n",
       "      <td>Comissão não recebida</td>\n",
       "      <td>12222.4500000000</td>\n",
       "      <td>-9133.0000000000</td>\n",
       "      <td>NaN</td>\n",
       "      <td>NaN</td>\n",
       "      <td>NaN</td>\n",
       "      <td>NaN</td>\n",
       "      <td>NaN</td>\n",
       "      <td>NÃO</td>\n",
       "    </tr>\n",
       "    <tr>\n",
       "      <th>2</th>\n",
       "      <td>Confirmed</td>\n",
       "      <td>NaN</td>\n",
       "      <td>0.0000000000</td>\n",
       "      <td>2022-07-25</td>\n",
       "      <td>1.0000000000</td>\n",
       "      <td>9cdafbed10c0d51c62c70109841e569900f978bb7524ef...</td>\n",
       "      <td>54eb3384177a6f1bce36ebf478c32787a128b43144b901...</td>\n",
       "      <td>7a86589d1624833154c067fdf8379eca1c7de984bba0c3...</td>\n",
       "      <td>1c0779e41e8d0a97be3b94feda097bb3280456b4ad5363...</td>\n",
       "      <td>Massificado</td>\n",
       "      <td>...</td>\n",
       "      <td>Comissão não recebida</td>\n",
       "      <td>Comissão não recebida</td>\n",
       "      <td>0.0000000000</td>\n",
       "      <td>-892.0000000000</td>\n",
       "      <td>NaN</td>\n",
       "      <td>NaN</td>\n",
       "      <td>NaN</td>\n",
       "      <td>NaN</td>\n",
       "      <td>NaN</td>\n",
       "      <td>NÃO</td>\n",
       "    </tr>\n",
       "    <tr>\n",
       "      <th>3</th>\n",
       "      <td>Confirmado</td>\n",
       "      <td>NaN</td>\n",
       "      <td>527.8207397461</td>\n",
       "      <td>2016-05-26</td>\n",
       "      <td>1.0000000000</td>\n",
       "      <td>c68cb6c1bac51b9b18fe707b35d142a54e67f06780c358...</td>\n",
       "      <td>243f77a913aad6b64b4c73b481c94fce10c1554fbe86d1...</td>\n",
       "      <td>ce7112b1bb7af451acc6c360998019acfde75d2dcb1527...</td>\n",
       "      <td>dc937b59892604f5a86ac96936cd7ff09e25f18ae6b758...</td>\n",
       "      <td>Habitacao</td>\n",
       "      <td>...</td>\n",
       "      <td>Comissão não recebida</td>\n",
       "      <td>Comissão não recebida</td>\n",
       "      <td>527.8200000000</td>\n",
       "      <td>-3143.0000000000</td>\n",
       "      <td>NaN</td>\n",
       "      <td>NaN</td>\n",
       "      <td>NaN</td>\n",
       "      <td>NaN</td>\n",
       "      <td>NaN</td>\n",
       "      <td>NÃO</td>\n",
       "    </tr>\n",
       "    <tr>\n",
       "      <th>4</th>\n",
       "      <td>Confirmado</td>\n",
       "      <td>NaN</td>\n",
       "      <td>65.5500030518</td>\n",
       "      <td>2016-10-01</td>\n",
       "      <td>1.0000000000</td>\n",
       "      <td>f22e67f434917d011b2a3f8463d63bdf4acf6ddd14840b...</td>\n",
       "      <td>0048e821bb69ffdcd8f340d7d83aaefadea6b47377089b...</td>\n",
       "      <td>ce7112b1bb7af451acc6c360998019acfde75d2dcb1527...</td>\n",
       "      <td>dc937b59892604f5a86ac96936cd7ff09e25f18ae6b758...</td>\n",
       "      <td>Fora Habitacao</td>\n",
       "      <td>...</td>\n",
       "      <td>Comissão não recebida</td>\n",
       "      <td>Comissão não recebida</td>\n",
       "      <td>65.5500000000</td>\n",
       "      <td>-3015.0000000000</td>\n",
       "      <td>NaN</td>\n",
       "      <td>NaN</td>\n",
       "      <td>NaN</td>\n",
       "      <td>NaN</td>\n",
       "      <td>NaN</td>\n",
       "      <td>NÃO</td>\n",
       "    </tr>\n",
       "  </tbody>\n",
       "</table>\n",
       "<p>5 rows × 38 columns</p>\n",
       "</div>"
      ],
      "text/plain": [
       "     DsStatus UltimoMotivoEndosso  VlReceitaEsperada DtPrimeiraParcela  \\\n",
       "0         NaN                 NaN   12222.4501953125               NaN   \n",
       "1         NaN                 NaN   12222.4501953125               NaN   \n",
       "2   Confirmed                 NaN       0.0000000000        2022-07-25   \n",
       "3  Confirmado                 NaN     527.8207397461        2016-05-26   \n",
       "4  Confirmado                 NaN      65.5500030518        2016-10-01   \n",
       "\n",
       "    NrParcelas                                          NmProduto  \\\n",
       "0 1.0000000000  2983630b65205bf108d9d69c960f67a8361b869201ad38...   \n",
       "1 1.0000000000  2983630b65205bf108d9d69c960f67a8361b869201ad38...   \n",
       "2 1.0000000000  9cdafbed10c0d51c62c70109841e569900f978bb7524ef...   \n",
       "3 1.0000000000  c68cb6c1bac51b9b18fe707b35d142a54e67f06780c358...   \n",
       "4 1.0000000000  f22e67f434917d011b2a3f8463d63bdf4acf6ddd14840b...   \n",
       "\n",
       "                                        GrupoProduto  \\\n",
       "0  8d76d9752f0ebba3365fd8bc593b811c8aa48160114978...   \n",
       "1  8d76d9752f0ebba3365fd8bc593b811c8aa48160114978...   \n",
       "2  54eb3384177a6f1bce36ebf478c32787a128b43144b901...   \n",
       "3  243f77a913aad6b64b4c73b481c94fce10c1554fbe86d1...   \n",
       "4  0048e821bb69ffdcd8f340d7d83aaefadea6b47377089b...   \n",
       "\n",
       "                               NOME_SEGURADORA_FINAL  \\\n",
       "0  0feaa5e88e73d8e7eefc6d92c9bdb298a83b424e5e1902...   \n",
       "1  0feaa5e88e73d8e7eefc6d92c9bdb298a83b424e5e1902...   \n",
       "2  7a86589d1624833154c067fdf8379eca1c7de984bba0c3...   \n",
       "3  ce7112b1bb7af451acc6c360998019acfde75d2dcb1527...   \n",
       "4  ce7112b1bb7af451acc6c360998019acfde75d2dcb1527...   \n",
       "\n",
       "                                              Balcao    FlgHabitacao  ...  \\\n",
       "0  dc937b59892604f5a86ac96936cd7ff09e25f18ae6b758...  Fora Habitacao  ...   \n",
       "1  dc937b59892604f5a86ac96936cd7ff09e25f18ae6b758...  Fora Habitacao  ...   \n",
       "2  1c0779e41e8d0a97be3b94feda097bb3280456b4ad5363...     Massificado  ...   \n",
       "3  dc937b59892604f5a86ac96936cd7ff09e25f18ae6b758...       Habitacao  ...   \n",
       "4  dc937b59892604f5a86ac96936cd7ff09e25f18ae6b758...  Fora Habitacao  ...   \n",
       "\n",
       "              StatusData            StatusValor       DifParcela  \\\n",
       "0  Comissão não recebida  Comissão não recebida 12222.4500000000   \n",
       "1  Comissão não recebida  Comissão não recebida 12222.4500000000   \n",
       "2  Comissão não recebida  Comissão não recebida     0.0000000000   \n",
       "3  Comissão não recebida  Comissão não recebida   527.8200000000   \n",
       "4  Comissão não recebida  Comissão não recebida    65.5500000000   \n",
       "\n",
       "           DifData TIPO INADIMPLÊNCIA NOTIFICAÇÕES  STATUS  STATUS PRÊMIO  \\\n",
       "0 -9133.0000000000                NaN          NaN     NaN            NaN   \n",
       "1 -9133.0000000000                NaN          NaN     NaN            NaN   \n",
       "2  -892.0000000000                NaN          NaN     NaN            NaN   \n",
       "3 -3143.0000000000                NaN          NaN     NaN            NaN   \n",
       "4 -3015.0000000000                NaN          NaN     NaN            NaN   \n",
       "\n",
       "   INADIMPLÊNTE? Esteve_Inadimplente?  \n",
       "0            NaN                  NÃO  \n",
       "1            NaN                  NÃO  \n",
       "2            NaN                  NÃO  \n",
       "3            NaN                  NÃO  \n",
       "4            NaN                  NÃO  \n",
       "\n",
       "[5 rows x 38 columns]"
      ]
     },
     "execution_count": 3,
     "metadata": {},
     "output_type": "execute_result"
    }
   ],
   "source": [
    "df = pd.read_csv('https://media.githubusercontent.com/media/Felisouza/tcc_mba_icmc/refs/heads/main/data/data.csv')\n",
    "df.head()"
   ]
  },
  {
   "cell_type": "code",
   "execution_count": 4,
   "metadata": {},
   "outputs": [
    {
     "name": "stdout",
     "output_type": "stream",
     "text": [
      "<class 'pandas.core.frame.DataFrame'>\n",
      "RangeIndex: 1948866 entries, 0 to 1948865\n",
      "Data columns (total 38 columns):\n",
      " #   Column                  Dtype  \n",
      "---  ------                  -----  \n",
      " 0   DsStatus                object \n",
      " 1   UltimoMotivoEndosso     object \n",
      " 2   VlReceitaEsperada       float64\n",
      " 3   DtPrimeiraParcela       object \n",
      " 4   NrParcelas              float64\n",
      " 5   NmProduto               object \n",
      " 6   GrupoProduto            object \n",
      " 7   NOME_SEGURADORA_FINAL   object \n",
      " 8   Balcao                  object \n",
      " 9   FlgHabitacao            object \n",
      " 10  TipoEmissao             object \n",
      " 11  PeriodocidadePagamento  object \n",
      " 12  DtEmissao               object \n",
      " 13  NmTomador               object \n",
      " 14  GrupoEconomico          object \n",
      " 15  TipoOportunidade        object \n",
      " 16  PremioBrutoModDiv       float64\n",
      " 17  Parcela                 int64  \n",
      " 18  ValorParcela            float64\n",
      " 19  DataVencimento          object \n",
      " 20  Periodicidade           int64  \n",
      " 21  PeriodicidadeMes        int64  \n",
      " 22  Data_Receber            object \n",
      " 23  VlComissao_co           float64\n",
      " 24  NmSeguradora_co         object \n",
      " 25  CanalVenda_co           object \n",
      " 26  DtFaturamento_max_co    object \n",
      " 27  Status_PG               object \n",
      " 28  StatusData              object \n",
      " 29  StatusValor             object \n",
      " 30  DifParcela              float64\n",
      " 31  DifData                 float64\n",
      " 32  TIPO INADIMPLÊNCIA      object \n",
      " 33  NOTIFICAÇÕES            float64\n",
      " 34  STATUS                  object \n",
      " 35  STATUS PRÊMIO           object \n",
      " 36  INADIMPLÊNTE?           object \n",
      " 37  Esteve_Inadimplente?    object \n",
      "dtypes: float64(8), int64(3), object(27)\n",
      "memory usage: 565.0+ MB\n"
     ]
    }
   ],
   "source": [
    "df.info()"
   ]
  },
  {
   "cell_type": "code",
   "execution_count": 5,
   "metadata": {},
   "outputs": [
    {
     "data": {
      "text/plain": [
       "dtype('float64')"
      ]
     },
     "execution_count": 5,
     "metadata": {},
     "output_type": "execute_result"
    }
   ],
   "source": [
    "df['NrParcelas'].dtype"
   ]
  },
  {
   "cell_type": "code",
   "execution_count": 6,
   "metadata": {},
   "outputs": [
    {
     "data": {
      "text/html": [
       "<div>\n",
       "<style scoped>\n",
       "    .dataframe tbody tr th:only-of-type {\n",
       "        vertical-align: middle;\n",
       "    }\n",
       "\n",
       "    .dataframe tbody tr th {\n",
       "        vertical-align: top;\n",
       "    }\n",
       "\n",
       "    .dataframe thead th {\n",
       "        text-align: right;\n",
       "    }\n",
       "</style>\n",
       "<table border=\"1\" class=\"dataframe\">\n",
       "  <thead>\n",
       "    <tr style=\"text-align: right;\">\n",
       "      <th></th>\n",
       "      <th>VlReceitaEsperada</th>\n",
       "      <th>NrParcelas</th>\n",
       "      <th>PremioBrutoModDiv</th>\n",
       "      <th>Parcela</th>\n",
       "      <th>ValorParcela</th>\n",
       "      <th>Periodicidade</th>\n",
       "      <th>PeriodicidadeMes</th>\n",
       "      <th>VlComissao_co</th>\n",
       "      <th>DifParcela</th>\n",
       "      <th>DifData</th>\n",
       "      <th>NOTIFICAÇÕES</th>\n",
       "    </tr>\n",
       "  </thead>\n",
       "  <tbody>\n",
       "    <tr>\n",
       "      <th>count</th>\n",
       "      <td>1948866.0000000000</td>\n",
       "      <td>1948864.0000000000</td>\n",
       "      <td>1948866.0000000000</td>\n",
       "      <td>1948866.0000000000</td>\n",
       "      <td>1948866.0000000000</td>\n",
       "      <td>1948866.0000000000</td>\n",
       "      <td>1948866.0000000000</td>\n",
       "      <td>1284472.0000000000</td>\n",
       "      <td>1948866.0000000000</td>\n",
       "      <td>1948865.0000000000</td>\n",
       "      <td>11203.0000000000</td>\n",
       "    </tr>\n",
       "    <tr>\n",
       "      <th>mean</th>\n",
       "      <td>893.8830233701</td>\n",
       "      <td>2.2239571361</td>\n",
       "      <td>5100.0900708103</td>\n",
       "      <td>1.6119266281</td>\n",
       "      <td>300.3216924390</td>\n",
       "      <td>30.0607840662</td>\n",
       "      <td>1.0017620503</td>\n",
       "      <td>360.8927933734</td>\n",
       "      <td>62.4619893655</td>\n",
       "      <td>-725.0750508629</td>\n",
       "      <td>1.2543068821</td>\n",
       "    </tr>\n",
       "    <tr>\n",
       "      <th>std</th>\n",
       "      <td>16478.5079188144</td>\n",
       "      <td>2.5866027948</td>\n",
       "      <td>95853.9860013446</td>\n",
       "      <td>1.5995823217</td>\n",
       "      <td>5700.9719623735</td>\n",
       "      <td>4.5458417137</td>\n",
       "      <td>0.1506050925</td>\n",
       "      <td>6113.0542391714</td>\n",
       "      <td>3951.9207638622</td>\n",
       "      <td>1399.2030953514</td>\n",
       "      <td>0.5859815441</td>\n",
       "    </tr>\n",
       "    <tr>\n",
       "      <th>min</th>\n",
       "      <td>-1566989.0000000000</td>\n",
       "      <td>1.0000000000</td>\n",
       "      <td>-10186140.6199999992</td>\n",
       "      <td>1.0000000000</td>\n",
       "      <td>-1566989.0000000000</td>\n",
       "      <td>2.0000000000</td>\n",
       "      <td>0.0000000000</td>\n",
       "      <td>-338776.1700000000</td>\n",
       "      <td>-2184892.5600000001</td>\n",
       "      <td>-45659.0000000000</td>\n",
       "      <td>1.0000000000</td>\n",
       "    </tr>\n",
       "    <tr>\n",
       "      <th>25%</th>\n",
       "      <td>42.0000000000</td>\n",
       "      <td>1.0000000000</td>\n",
       "      <td>270.0000000000</td>\n",
       "      <td>1.0000000000</td>\n",
       "      <td>28.5000000000</td>\n",
       "      <td>30.0000000000</td>\n",
       "      <td>1.0000000000</td>\n",
       "      <td>37.5000000000</td>\n",
       "      <td>0.0000000000</td>\n",
       "      <td>-1666.0000000000</td>\n",
       "      <td>1.0000000000</td>\n",
       "    </tr>\n",
       "    <tr>\n",
       "      <th>50%</th>\n",
       "      <td>68.8000030518</td>\n",
       "      <td>1.0000000000</td>\n",
       "      <td>351.0000000000</td>\n",
       "      <td>1.0000000000</td>\n",
       "      <td>51.0000000000</td>\n",
       "      <td>30.0000000000</td>\n",
       "      <td>1.0000000000</td>\n",
       "      <td>62.5000000000</td>\n",
       "      <td>0.0000000000</td>\n",
       "      <td>-25.0000000000</td>\n",
       "      <td>1.0000000000</td>\n",
       "    </tr>\n",
       "    <tr>\n",
       "      <th>75%</th>\n",
       "      <td>137.8000030518</td>\n",
       "      <td>3.0000000000</td>\n",
       "      <td>650.0000000000</td>\n",
       "      <td>1.0000000000</td>\n",
       "      <td>90.5600000000</td>\n",
       "      <td>30.0000000000</td>\n",
       "      <td>1.0000000000</td>\n",
       "      <td>133.3000000000</td>\n",
       "      <td>27.0000000000</td>\n",
       "      <td>5.0000000000</td>\n",
       "      <td>1.0000000000</td>\n",
       "    </tr>\n",
       "    <tr>\n",
       "      <th>max</th>\n",
       "      <td>2820014.7500000000</td>\n",
       "      <td>100.0000000000</td>\n",
       "      <td>11594337.8800000008</td>\n",
       "      <td>100.0000000000</td>\n",
       "      <td>1612154.1299999999</td>\n",
       "      <td>365.0000000000</td>\n",
       "      <td>12.0000000000</td>\n",
       "      <td>2424663.8100000001</td>\n",
       "      <td>1019924.7500000000</td>\n",
       "      <td>65344.0000000000</td>\n",
       "      <td>8.0000000000</td>\n",
       "    </tr>\n",
       "  </tbody>\n",
       "</table>\n",
       "</div>"
      ],
      "text/plain": [
       "        VlReceitaEsperada         NrParcelas    PremioBrutoModDiv  \\\n",
       "count  1948866.0000000000 1948864.0000000000   1948866.0000000000   \n",
       "mean       893.8830233701       2.2239571361      5100.0900708103   \n",
       "std      16478.5079188144       2.5866027948     95853.9860013446   \n",
       "min   -1566989.0000000000       1.0000000000 -10186140.6199999992   \n",
       "25%         42.0000000000       1.0000000000       270.0000000000   \n",
       "50%         68.8000030518       1.0000000000       351.0000000000   \n",
       "75%        137.8000030518       3.0000000000       650.0000000000   \n",
       "max    2820014.7500000000     100.0000000000  11594337.8800000008   \n",
       "\n",
       "                 Parcela        ValorParcela      Periodicidade  \\\n",
       "count 1948866.0000000000  1948866.0000000000 1948866.0000000000   \n",
       "mean        1.6119266281      300.3216924390      30.0607840662   \n",
       "std         1.5995823217     5700.9719623735       4.5458417137   \n",
       "min         1.0000000000 -1566989.0000000000       2.0000000000   \n",
       "25%         1.0000000000       28.5000000000      30.0000000000   \n",
       "50%         1.0000000000       51.0000000000      30.0000000000   \n",
       "75%         1.0000000000       90.5600000000      30.0000000000   \n",
       "max       100.0000000000  1612154.1299999999     365.0000000000   \n",
       "\n",
       "        PeriodicidadeMes      VlComissao_co          DifParcela  \\\n",
       "count 1948866.0000000000 1284472.0000000000  1948866.0000000000   \n",
       "mean        1.0017620503     360.8927933734       62.4619893655   \n",
       "std         0.1506050925    6113.0542391714     3951.9207638622   \n",
       "min         0.0000000000 -338776.1700000000 -2184892.5600000001   \n",
       "25%         1.0000000000      37.5000000000        0.0000000000   \n",
       "50%         1.0000000000      62.5000000000        0.0000000000   \n",
       "75%         1.0000000000     133.3000000000       27.0000000000   \n",
       "max        12.0000000000 2424663.8100000001  1019924.7500000000   \n",
       "\n",
       "                 DifData     NOTIFICAÇÕES  \n",
       "count 1948865.0000000000 11203.0000000000  \n",
       "mean     -725.0750508629     1.2543068821  \n",
       "std      1399.2030953514     0.5859815441  \n",
       "min    -45659.0000000000     1.0000000000  \n",
       "25%     -1666.0000000000     1.0000000000  \n",
       "50%       -25.0000000000     1.0000000000  \n",
       "75%         5.0000000000     1.0000000000  \n",
       "max     65344.0000000000     8.0000000000  "
      ]
     },
     "execution_count": 6,
     "metadata": {},
     "output_type": "execute_result"
    }
   ],
   "source": [
    "df.describe()"
   ]
  },
  {
   "cell_type": "code",
   "execution_count": 7,
   "metadata": {},
   "outputs": [
    {
     "data": {
      "text/plain": [
       "DsStatus\n",
       "Vigente         1214792\n",
       "Confirmado       645796\n",
       "Cancelado         71095\n",
       "Cancelado(a)       7650\n",
       "Efetivado          3794\n",
       "Confirmed           712\n",
       "Name: count, dtype: int64"
      ]
     },
     "execution_count": 7,
     "metadata": {},
     "output_type": "execute_result"
    }
   ],
   "source": [
    "df['DsStatus'].value_counts()"
   ]
  },
  {
   "cell_type": "code",
   "execution_count": 8,
   "metadata": {},
   "outputs": [
    {
     "data": {
      "text/plain": [
       "STATUS\n",
       "PRÊMIO PAGO                         8586\n",
       "AGUARDANDO COMERCIAL                1549\n",
       "APÓLICE CANCELADA                    526\n",
       "BOLETO PRORROGADO                    341\n",
       "SEM NEGOCIAÇÃO                        82\n",
       "AGUARDANDO BAIXA DA SEGURADORA        65\n",
       "AGUARDANDO BAIXA DE CANCELAMENTO      62\n",
       "Name: count, dtype: int64"
      ]
     },
     "execution_count": 8,
     "metadata": {},
     "output_type": "execute_result"
    }
   ],
   "source": [
    "df['STATUS'].value_counts()"
   ]
  },
  {
   "cell_type": "code",
   "execution_count": 9,
   "metadata": {},
   "outputs": [
    {
     "data": {
      "text/plain": [
       "STATUS PRÊMIO\n",
       "RESOLVIDO          9535\n",
       "PENDENTE           1614\n",
       "SEM STATUS           95\n",
       "EM CANCELAMENTO      62\n",
       "Name: count, dtype: int64"
      ]
     },
     "execution_count": 9,
     "metadata": {},
     "output_type": "execute_result"
    }
   ],
   "source": [
    "df['STATUS PRÊMIO'].value_counts()"
   ]
  },
  {
   "cell_type": "markdown",
   "metadata": {},
   "source": [
    "# Limpeza dos dados"
   ]
  },
  {
   "cell_type": "markdown",
   "metadata": {},
   "source": [
    "## Arredondando valores float"
   ]
  },
  {
   "cell_type": "code",
   "execution_count": 10,
   "metadata": {},
   "outputs": [
    {
     "data": {
      "text/plain": [
       "Index(['VlReceitaEsperada', 'NrParcelas', 'PremioBrutoModDiv', 'ValorParcela',\n",
       "       'VlComissao_co', 'DifParcela', 'DifData', 'NOTIFICAÇÕES'],\n",
       "      dtype='object')"
      ]
     },
     "execution_count": 10,
     "metadata": {},
     "output_type": "execute_result"
    }
   ],
   "source": [
    "float_cols = df.select_dtypes(include=['float64']).columns \n",
    "float_cols\n",
    "# df_sem[float_cols] = df[float_cols].round(0).astype(int)"
   ]
  },
  {
   "cell_type": "code",
   "execution_count": 11,
   "metadata": {},
   "outputs": [],
   "source": [
    "df[float_cols] = df[float_cols].fillna(0).replace([float('inf'), -float('inf')], 0)"
   ]
  },
  {
   "cell_type": "code",
   "execution_count": 12,
   "metadata": {},
   "outputs": [],
   "source": [
    "df[float_cols] = df[float_cols].round(0).astype(int)"
   ]
  },
  {
   "cell_type": "markdown",
   "metadata": {},
   "source": [
    "## Valor prorrogado para 'NÃO'"
   ]
  },
  {
   "cell_type": "code",
   "execution_count": 13,
   "metadata": {},
   "outputs": [],
   "source": [
    "df['INADIMPLÊNTE?'].replace('PRORROGADO', 'NÃO', inplace=True)"
   ]
  },
  {
   "cell_type": "markdown",
   "metadata": {},
   "source": [
    "# Tirando apólices canceladas"
   ]
  },
  {
   "cell_type": "code",
   "execution_count": 25,
   "metadata": {},
   "outputs": [],
   "source": [
    "df_sem_canc = (\n",
    "df[\n",
    "    (df['DsStatus'] != 'Cancelado')\n",
    "    & (df['DsStatus'] != 'Cancelado(a)')\n",
    "    & (df['STATUS'] != 'APÓLICE CANCELADA')\n",
    "    & (df['STATUS'] != 'AGUARDANDO BAIXA DE CANCELAMENTO')\n",
    "    & (df['STATUS PRÊMIO'] != 'EM CANCELAMENTO')\n",
    "    & (df['INADIMPLÊNTE?'] != 'CANCELADA')\n",
    "    & (~df['DsStatus'].isna())\n",
    "    & (~df['Data_Receber'].isna())\n",
    "]\n",
    ")"
   ]
  },
  {
   "cell_type": "markdown",
   "metadata": {},
   "source": [
    "## Coluna Inadimplente_Atual"
   ]
  },
  {
   "cell_type": "code",
   "execution_count": 26,
   "metadata": {},
   "outputs": [],
   "source": [
    "df['Inadimplente_Atual'] = df['INADIMPLÊNTE?'].apply(lambda x: 1 if x == 'SIM' else 0)\n"
   ]
  },
  {
   "cell_type": "markdown",
   "metadata": {},
   "source": [
    "## Coluna target para numérico"
   ]
  },
  {
   "cell_type": "code",
   "execution_count": 27,
   "metadata": {},
   "outputs": [],
   "source": [
    "def coluna_binaria(df, coluna):\n",
    "    novo_nome_coluna = coluna + '_num'\n",
    "    df[novo_nome_coluna] = df[coluna].map({'SIM':1, 'NÃO':0})\n",
    "    return df"
   ]
  },
  {
   "cell_type": "code",
   "execution_count": 28,
   "metadata": {},
   "outputs": [
    {
     "name": "stderr",
     "output_type": "stream",
     "text": [
      "C:\\Users\\felipebatista\\AppData\\Local\\Temp\\ipykernel_62448\\203985392.py:3: SettingWithCopyWarning: \n",
      "A value is trying to be set on a copy of a slice from a DataFrame.\n",
      "Try using .loc[row_indexer,col_indexer] = value instead\n",
      "\n",
      "See the caveats in the documentation: https://pandas.pydata.org/pandas-docs/stable/user_guide/indexing.html#returning-a-view-versus-a-copy\n",
      "  df[novo_nome_coluna] = df[coluna].map({'SIM':1, 'NÃO':0})\n"
     ]
    }
   ],
   "source": [
    "df_sem_canc = coluna_binaria(df_sem_canc, 'INADIMPLÊNTE?')"
   ]
  },
  {
   "cell_type": "code",
   "execution_count": 29,
   "metadata": {},
   "outputs": [
    {
     "name": "stderr",
     "output_type": "stream",
     "text": [
      "C:\\Users\\felipebatista\\AppData\\Local\\Temp\\ipykernel_62448\\203985392.py:3: SettingWithCopyWarning: \n",
      "A value is trying to be set on a copy of a slice from a DataFrame.\n",
      "Try using .loc[row_indexer,col_indexer] = value instead\n",
      "\n",
      "See the caveats in the documentation: https://pandas.pydata.org/pandas-docs/stable/user_guide/indexing.html#returning-a-view-versus-a-copy\n",
      "  df[novo_nome_coluna] = df[coluna].map({'SIM':1, 'NÃO':0})\n"
     ]
    }
   ],
   "source": [
    "df_sem_canc = coluna_binaria(df_sem_canc, 'Esteve_Inadimplente?')"
   ]
  },
  {
   "cell_type": "markdown",
   "metadata": {},
   "source": [
    "## Coluna trimestre - ano"
   ]
  },
  {
   "cell_type": "code",
   "execution_count": 30,
   "metadata": {},
   "outputs": [
    {
     "data": {
      "text/plain": [
       "DsStatus                     object\n",
       "UltimoMotivoEndosso          object\n",
       "VlReceitaEsperada             int32\n",
       "DtPrimeiraParcela            object\n",
       "NrParcelas                    int32\n",
       "NmProduto                    object\n",
       "GrupoProduto                 object\n",
       "NOME_SEGURADORA_FINAL        object\n",
       "Balcao                       object\n",
       "FlgHabitacao                 object\n",
       "TipoEmissao                  object\n",
       "PeriodocidadePagamento       object\n",
       "DtEmissao                    object\n",
       "NmTomador                    object\n",
       "GrupoEconomico               object\n",
       "TipoOportunidade             object\n",
       "PremioBrutoModDiv             int32\n",
       "Parcela                       int64\n",
       "ValorParcela                  int32\n",
       "DataVencimento               object\n",
       "Periodicidade                 int64\n",
       "PeriodicidadeMes              int64\n",
       "Data_Receber                 object\n",
       "VlComissao_co                 int32\n",
       "NmSeguradora_co              object\n",
       "CanalVenda_co                object\n",
       "DtFaturamento_max_co         object\n",
       "Status_PG                    object\n",
       "StatusData                   object\n",
       "StatusValor                  object\n",
       "DifParcela                    int32\n",
       "DifData                       int32\n",
       "TIPO INADIMPLÊNCIA           object\n",
       "NOTIFICAÇÕES                  int32\n",
       "STATUS                       object\n",
       "STATUS PRÊMIO                object\n",
       "INADIMPLÊNTE?                object\n",
       "Esteve_Inadimplente?         object\n",
       "Inadimplente_Atual            int64\n",
       "INADIMPLÊNTE?_num           float64\n",
       "Esteve_Inadimplente?_num      int64\n",
       "dtype: object"
      ]
     },
     "execution_count": 30,
     "metadata": {},
     "output_type": "execute_result"
    }
   ],
   "source": [
    "df_sem_canc.dtypes"
   ]
  },
  {
   "cell_type": "code",
   "execution_count": 31,
   "metadata": {},
   "outputs": [
    {
     "name": "stderr",
     "output_type": "stream",
     "text": [
      "C:\\Users\\felipebatista\\AppData\\Local\\Temp\\ipykernel_62448\\3291830796.py:2: SettingWithCopyWarning: \n",
      "A value is trying to be set on a copy of a slice from a DataFrame.\n",
      "Try using .loc[row_indexer,col_indexer] = value instead\n",
      "\n",
      "See the caveats in the documentation: https://pandas.pydata.org/pandas-docs/stable/user_guide/indexing.html#returning-a-view-versus-a-copy\n",
      "  df_sem_canc['Data_Receber'] = pd.to_datetime(df_sem_canc['Data_Receber'])\n",
      "C:\\Users\\felipebatista\\AppData\\Local\\Temp\\ipykernel_62448\\3291830796.py:5: SettingWithCopyWarning: \n",
      "A value is trying to be set on a copy of a slice from a DataFrame.\n",
      "Try using .loc[row_indexer,col_indexer] = value instead\n",
      "\n",
      "See the caveats in the documentation: https://pandas.pydata.org/pandas-docs/stable/user_guide/indexing.html#returning-a-view-versus-a-copy\n",
      "  df_sem_canc['trimestre'] = df_sem_canc['Data_Receber'].dt.quarter\n",
      "C:\\Users\\felipebatista\\AppData\\Local\\Temp\\ipykernel_62448\\3291830796.py:8: SettingWithCopyWarning: \n",
      "A value is trying to be set on a copy of a slice from a DataFrame.\n",
      "Try using .loc[row_indexer,col_indexer] = value instead\n",
      "\n",
      "See the caveats in the documentation: https://pandas.pydata.org/pandas-docs/stable/user_guide/indexing.html#returning-a-view-versus-a-copy\n",
      "  df_sem_canc['trimestre'] = df_sem_canc['trimestre'].fillna(0)\n",
      "C:\\Users\\felipebatista\\AppData\\Local\\Temp\\ipykernel_62448\\3291830796.py:11: SettingWithCopyWarning: \n",
      "A value is trying to be set on a copy of a slice from a DataFrame.\n",
      "Try using .loc[row_indexer,col_indexer] = value instead\n",
      "\n",
      "See the caveats in the documentation: https://pandas.pydata.org/pandas-docs/stable/user_guide/indexing.html#returning-a-view-versus-a-copy\n",
      "  df_sem_canc['trimestre'] = df_sem_canc['trimestre'].astype(int)\n"
     ]
    }
   ],
   "source": [
    "# Converter a coluna 'Data_Receber' para o formato datetime\n",
    "df_sem_canc['Data_Receber'] = pd.to_datetime(df_sem_canc['Data_Receber'])\n",
    "\n",
    "# Criar a coluna de trimestres com valores 1, 2, 3 ou 4\n",
    "df_sem_canc['trimestre'] = df_sem_canc['Data_Receber'].dt.quarter\n",
    "\n",
    "# Preencher valores NA com 0\n",
    "df_sem_canc['trimestre'] = df_sem_canc['trimestre'].fillna(0)\n",
    "\n",
    "# Converter a coluna de trimestres para o tipo int\n",
    "df_sem_canc['trimestre'] = df_sem_canc['trimestre'].astype(int)\n"
   ]
  },
  {
   "cell_type": "markdown",
   "metadata": {},
   "source": [
    "## Tratando valores nulos"
   ]
  },
  {
   "cell_type": "code",
   "execution_count": 32,
   "metadata": {},
   "outputs": [
    {
     "data": {
      "text/plain": [
       "UltimoMotivoEndosso         1857794\n",
       "STATUS                      1854828\n",
       "INADIMPLÊNTE?_num           1854735\n",
       "INADIMPLÊNTE?               1854735\n",
       "STATUS PRÊMIO               1854735\n",
       "TIPO INADIMPLÊNCIA          1854735\n",
       "TipoOportunidade            1398225\n",
       "DtFaturamento_max_co         617756\n",
       "PeriodocidadePagamento       440823\n",
       "DtPrimeiraParcela             13856\n",
       "CanalVenda_co                     0\n",
       "Status_PG                         0\n",
       "StatusData                        0\n",
       "StatusValor                       0\n",
       "DsStatus                          0\n",
       "DifParcela                        0\n",
       "DifData                           0\n",
       "VlComissao_co                     0\n",
       "NOTIFICAÇÕES                      0\n",
       "Esteve_Inadimplente?              0\n",
       "Inadimplente_Atual                0\n",
       "Esteve_Inadimplente?_num          0\n",
       "NmSeguradora_co                   0\n",
       "PeriodicidadeMes                  0\n",
       "Data_Receber                      0\n",
       "Periodicidade                     0\n",
       "VlReceitaEsperada                 0\n",
       "NrParcelas                        0\n",
       "NmProduto                         0\n",
       "GrupoProduto                      0\n",
       "NOME_SEGURADORA_FINAL             0\n",
       "Balcao                            0\n",
       "FlgHabitacao                      0\n",
       "TipoEmissao                       0\n",
       "DtEmissao                         0\n",
       "NmTomador                         0\n",
       "GrupoEconomico                    0\n",
       "PremioBrutoModDiv                 0\n",
       "Parcela                           0\n",
       "ValorParcela                      0\n",
       "DataVencimento                    0\n",
       "trimestre                         0\n",
       "dtype: int64"
      ]
     },
     "execution_count": 32,
     "metadata": {},
     "output_type": "execute_result"
    }
   ],
   "source": [
    "df_sem_canc.isnull().sum().sort_values(ascending=False)"
   ]
  },
  {
   "cell_type": "code",
   "execution_count": 33,
   "metadata": {},
   "outputs": [],
   "source": [
    "# Listar as colunas a serem removidas\n",
    "colunas_para_remover = [\n",
    "    'UltimoMotivoEndosso',\n",
    "    'STATUS',\n",
    "    'TIPO INADIMPLÊNCIA',\n",
    "    'INADIMPLÊNTE?_num',\n",
    "    'INADIMPLÊNTE?',\n",
    "    'STATUS PRÊMIO',\n",
    "    'TipoOportunidade',\n",
    "    'DtFaturamento_max_co',\n",
    "    'PeriodocidadePagamento',\n",
    "    'DtPrimeiraParcela'\n",
    "]\n",
    "\n",
    "# Remover as colunas do DataFrame\n",
    "df_sem_canc = df_sem_canc.drop(columns=colunas_para_remover)\n"
   ]
  },
  {
   "cell_type": "code",
   "execution_count": 36,
   "metadata": {},
   "outputs": [
    {
     "name": "stdout",
     "output_type": "stream",
     "text": [
      "<class 'pandas.core.frame.DataFrame'>\n",
      "Index: 1864722 entries, 2 to 1948865\n",
      "Data columns (total 32 columns):\n",
      " #   Column                    Dtype         \n",
      "---  ------                    -----         \n",
      " 0   DsStatus                  object        \n",
      " 1   VlReceitaEsperada         int32         \n",
      " 2   NrParcelas                int32         \n",
      " 3   NmProduto                 object        \n",
      " 4   GrupoProduto              object        \n",
      " 5   NOME_SEGURADORA_FINAL     object        \n",
      " 6   Balcao                    object        \n",
      " 7   FlgHabitacao              object        \n",
      " 8   TipoEmissao               object        \n",
      " 9   DtEmissao                 object        \n",
      " 10  NmTomador                 object        \n",
      " 11  GrupoEconomico            object        \n",
      " 12  PremioBrutoModDiv         int32         \n",
      " 13  Parcela                   int64         \n",
      " 14  ValorParcela              int32         \n",
      " 15  DataVencimento            object        \n",
      " 16  Periodicidade             int64         \n",
      " 17  PeriodicidadeMes          int64         \n",
      " 18  Data_Receber              datetime64[ns]\n",
      " 19  VlComissao_co             int32         \n",
      " 20  NmSeguradora_co           object        \n",
      " 21  CanalVenda_co             object        \n",
      " 22  Status_PG                 object        \n",
      " 23  StatusData                object        \n",
      " 24  StatusValor               object        \n",
      " 25  DifParcela                int32         \n",
      " 26  DifData                   int32         \n",
      " 27  NOTIFICAÇÕES              int32         \n",
      " 28  Esteve_Inadimplente?      object        \n",
      " 29  Inadimplente_Atual        int64         \n",
      " 30  Esteve_Inadimplente?_num  int64         \n",
      " 31  trimestre                 int32         \n",
      "dtypes: datetime64[ns](1), int32(9), int64(5), object(17)\n",
      "memory usage: 405.5+ MB\n"
     ]
    }
   ],
   "source": [
    "df_sem_canc.info()"
   ]
  },
  {
   "cell_type": "markdown",
   "metadata": {},
   "source": [
    "## Retirando colunas"
   ]
  },
  {
   "cell_type": "code",
   "execution_count": null,
   "metadata": {},
   "outputs": [],
   "source": []
  },
  {
   "cell_type": "code",
   "execution_count": 42,
   "metadata": {},
   "outputs": [
    {
     "name": "stdout",
     "output_type": "stream",
     "text": [
      "<class 'pandas.core.frame.DataFrame'>\n",
      "Index: 1864722 entries, 2 to 1948865\n",
      "Data columns (total 19 columns):\n",
      " #   Column                    Dtype         \n",
      "---  ------                    -----         \n",
      " 0   VlReceitaEsperada         int32         \n",
      " 1   NrParcelas                int32         \n",
      " 2   NmProduto                 object        \n",
      " 3   GrupoProduto              object        \n",
      " 4   NOME_SEGURADORA_FINAL     object        \n",
      " 5   NmTomador                 object        \n",
      " 6   GrupoEconomico            object        \n",
      " 7   PremioBrutoModDiv         int32         \n",
      " 8   Parcela                   int64         \n",
      " 9   ValorParcela              int32         \n",
      " 10  PeriodicidadeMes          int64         \n",
      " 11  Data_Receber              datetime64[ns]\n",
      " 12  VlComissao_co             int32         \n",
      " 13  DifParcela                int32         \n",
      " 14  DifData                   int32         \n",
      " 15  Esteve_Inadimplente?      object        \n",
      " 16  Inadimplente_Atual        int64         \n",
      " 17  Esteve_Inadimplente?_num  int64         \n",
      " 18  trimestre                 int32         \n",
      "dtypes: datetime64[ns](1), int32(8), int64(4), object(6)\n",
      "memory usage: 227.6+ MB\n"
     ]
    }
   ],
   "source": [
    "colunas_para_remover = [\n",
    "    'DsStatus',\n",
    "    'Balcao',\n",
    "    'FlgHabitacao',\n",
    "    'TipoEmissao',\n",
    "    'DtEmissao',\n",
    "    'DataVencimento',\n",
    "    'Periodicidade',\n",
    "    'NmSeguradora_co',\n",
    "    'CanalVenda_co',\n",
    "    'Status_PG',\n",
    "    'StatusData',\n",
    "    'StatusValor',\n",
    "    'NOTIFICAÇÕES'\n",
    "]\n",
    "\n",
    "df_sem_canc = df_sem_canc.drop(columns=colunas_para_remover)\n",
    "df_sem_canc.info()\n"
   ]
  },
  {
   "cell_type": "code",
   "execution_count": 41,
   "metadata": {},
   "outputs": [
    {
     "data": {
      "text/plain": [
       "array(['Comissão não recebida', 'A Receber', 'Correto', 'Pagamento Menor',\n",
       "       'Pagamento Maior'], dtype=object)"
      ]
     },
     "execution_count": 41,
     "metadata": {},
     "output_type": "execute_result"
    }
   ],
   "source": [
    "df_sem_canc['StatusValor'].unique()"
   ]
  },
  {
   "cell_type": "markdown",
   "metadata": {},
   "source": [
    "## Escrita base tratada"
   ]
  },
  {
   "cell_type": "code",
   "execution_count": 44,
   "metadata": {},
   "outputs": [
    {
     "name": "stdout",
     "output_type": "stream",
     "text": [
      "DataFrame escrito com sucesso para 'data_curated.csv'\n"
     ]
    }
   ],
   "source": [
    "df_sem_canc.to_csv(r'~\\Desktop\\tcc_mba_icmc\\data\\data_curated.csv', index=False)\n",
    "\n",
    "print(\"DataFrame escrito com sucesso para 'data_curated.csv'\")"
   ]
  },
  {
   "cell_type": "code",
   "execution_count": 45,
   "metadata": {},
   "outputs": [
    {
     "data": {
      "text/html": [
       "<div>\n",
       "<style scoped>\n",
       "    .dataframe tbody tr th:only-of-type {\n",
       "        vertical-align: middle;\n",
       "    }\n",
       "\n",
       "    .dataframe tbody tr th {\n",
       "        vertical-align: top;\n",
       "    }\n",
       "\n",
       "    .dataframe thead th {\n",
       "        text-align: right;\n",
       "    }\n",
       "</style>\n",
       "<table border=\"1\" class=\"dataframe\">\n",
       "  <thead>\n",
       "    <tr style=\"text-align: right;\">\n",
       "      <th></th>\n",
       "      <th>VlReceitaEsperada</th>\n",
       "      <th>NrParcelas</th>\n",
       "      <th>NmProduto</th>\n",
       "      <th>GrupoProduto</th>\n",
       "      <th>NOME_SEGURADORA_FINAL</th>\n",
       "      <th>NmTomador</th>\n",
       "      <th>GrupoEconomico</th>\n",
       "      <th>PremioBrutoModDiv</th>\n",
       "      <th>Parcela</th>\n",
       "      <th>ValorParcela</th>\n",
       "      <th>PeriodicidadeMes</th>\n",
       "      <th>Data_Receber</th>\n",
       "      <th>VlComissao_co</th>\n",
       "      <th>DifParcela</th>\n",
       "      <th>DifData</th>\n",
       "      <th>Esteve_Inadimplente?</th>\n",
       "      <th>Inadimplente_Atual</th>\n",
       "      <th>Esteve_Inadimplente?_num</th>\n",
       "      <th>trimestre</th>\n",
       "    </tr>\n",
       "  </thead>\n",
       "  <tbody>\n",
       "    <tr>\n",
       "      <th>0</th>\n",
       "      <td>0</td>\n",
       "      <td>1</td>\n",
       "      <td>9cdafbed10c0d51c62c70109841e569900f978bb7524ef...</td>\n",
       "      <td>54eb3384177a6f1bce36ebf478c32787a128b43144b901...</td>\n",
       "      <td>7a86589d1624833154c067fdf8379eca1c7de984bba0c3...</td>\n",
       "      <td>dc937b59892604f5a86ac96936cd7ff09e25f18ae6b758...</td>\n",
       "      <td>dc937b59892604f5a86ac96936cd7ff09e25f18ae6b758...</td>\n",
       "      <td>4349</td>\n",
       "      <td>1</td>\n",
       "      <td>0</td>\n",
       "      <td>1</td>\n",
       "      <td>2022-07-25</td>\n",
       "      <td>0</td>\n",
       "      <td>0</td>\n",
       "      <td>-892</td>\n",
       "      <td>NÃO</td>\n",
       "      <td>0</td>\n",
       "      <td>0</td>\n",
       "      <td>3</td>\n",
       "    </tr>\n",
       "    <tr>\n",
       "      <th>1</th>\n",
       "      <td>528</td>\n",
       "      <td>1</td>\n",
       "      <td>c68cb6c1bac51b9b18fe707b35d142a54e67f06780c358...</td>\n",
       "      <td>243f77a913aad6b64b4c73b481c94fce10c1554fbe86d1...</td>\n",
       "      <td>ce7112b1bb7af451acc6c360998019acfde75d2dcb1527...</td>\n",
       "      <td>7b0c6f6a92137fc18c4accdaf9dc8eb1b7d105496a126e...</td>\n",
       "      <td>e468ad81880f4156af507e2d09f2c6c1746f356460dce0...</td>\n",
       "      <td>2346</td>\n",
       "      <td>1</td>\n",
       "      <td>528</td>\n",
       "      <td>1</td>\n",
       "      <td>2016-05-26</td>\n",
       "      <td>0</td>\n",
       "      <td>528</td>\n",
       "      <td>-3143</td>\n",
       "      <td>NÃO</td>\n",
       "      <td>0</td>\n",
       "      <td>0</td>\n",
       "      <td>2</td>\n",
       "    </tr>\n",
       "    <tr>\n",
       "      <th>2</th>\n",
       "      <td>66</td>\n",
       "      <td>1</td>\n",
       "      <td>f22e67f434917d011b2a3f8463d63bdf4acf6ddd14840b...</td>\n",
       "      <td>0048e821bb69ffdcd8f340d7d83aaefadea6b47377089b...</td>\n",
       "      <td>ce7112b1bb7af451acc6c360998019acfde75d2dcb1527...</td>\n",
       "      <td>418fe50aa1ba9b6660f2afa031b6adf31bf7e7e892d43e...</td>\n",
       "      <td>418fe50aa1ba9b6660f2afa031b6adf31bf7e7e892d43e...</td>\n",
       "      <td>437</td>\n",
       "      <td>1</td>\n",
       "      <td>66</td>\n",
       "      <td>1</td>\n",
       "      <td>2016-10-01</td>\n",
       "      <td>0</td>\n",
       "      <td>66</td>\n",
       "      <td>-3015</td>\n",
       "      <td>NÃO</td>\n",
       "      <td>0</td>\n",
       "      <td>0</td>\n",
       "      <td>4</td>\n",
       "    </tr>\n",
       "    <tr>\n",
       "      <th>3</th>\n",
       "      <td>818</td>\n",
       "      <td>1</td>\n",
       "      <td>f22e67f434917d011b2a3f8463d63bdf4acf6ddd14840b...</td>\n",
       "      <td>0048e821bb69ffdcd8f340d7d83aaefadea6b47377089b...</td>\n",
       "      <td>ce7112b1bb7af451acc6c360998019acfde75d2dcb1527...</td>\n",
       "      <td>9023625c4850288ff84f2dfa62d5bb0a4a6465c82e3c60...</td>\n",
       "      <td>9023625c4850288ff84f2dfa62d5bb0a4a6465c82e3c60...</td>\n",
       "      <td>5453</td>\n",
       "      <td>1</td>\n",
       "      <td>818</td>\n",
       "      <td>1</td>\n",
       "      <td>2016-06-13</td>\n",
       "      <td>0</td>\n",
       "      <td>818</td>\n",
       "      <td>-3125</td>\n",
       "      <td>NÃO</td>\n",
       "      <td>0</td>\n",
       "      <td>0</td>\n",
       "      <td>2</td>\n",
       "    </tr>\n",
       "    <tr>\n",
       "      <th>4</th>\n",
       "      <td>188</td>\n",
       "      <td>10</td>\n",
       "      <td>0c4302ab1690d261d113a63cb27c17d6e4c04edb378b5b...</td>\n",
       "      <td>541d9e89fcbd48ed2be6049a23f8cffbf4b492adea1c43...</td>\n",
       "      <td>4e853eb76e10d2c328bd3d1090b9226000be2e4e2688cf...</td>\n",
       "      <td>d8629d6d970adfc91f2d7ea3c40ae8004883e9df78555f...</td>\n",
       "      <td>d8629d6d970adfc91f2d7ea3c40ae8004883e9df78555f...</td>\n",
       "      <td>1878</td>\n",
       "      <td>2</td>\n",
       "      <td>19</td>\n",
       "      <td>1</td>\n",
       "      <td>2016-06-13</td>\n",
       "      <td>0</td>\n",
       "      <td>19</td>\n",
       "      <td>-3125</td>\n",
       "      <td>NÃO</td>\n",
       "      <td>0</td>\n",
       "      <td>0</td>\n",
       "      <td>2</td>\n",
       "    </tr>\n",
       "    <tr>\n",
       "      <th>...</th>\n",
       "      <td>...</td>\n",
       "      <td>...</td>\n",
       "      <td>...</td>\n",
       "      <td>...</td>\n",
       "      <td>...</td>\n",
       "      <td>...</td>\n",
       "      <td>...</td>\n",
       "      <td>...</td>\n",
       "      <td>...</td>\n",
       "      <td>...</td>\n",
       "      <td>...</td>\n",
       "      <td>...</td>\n",
       "      <td>...</td>\n",
       "      <td>...</td>\n",
       "      <td>...</td>\n",
       "      <td>...</td>\n",
       "      <td>...</td>\n",
       "      <td>...</td>\n",
       "      <td>...</td>\n",
       "    </tr>\n",
       "    <tr>\n",
       "      <th>1864717</th>\n",
       "      <td>671</td>\n",
       "      <td>1</td>\n",
       "      <td>d6bd6b18a4384e2bee35d512533d1e90d6d40953b405c8...</td>\n",
       "      <td>541d9e89fcbd48ed2be6049a23f8cffbf4b492adea1c43...</td>\n",
       "      <td>2b1d6b2a1ac0e81d4688e25dccf342dc172f09dec930ad...</td>\n",
       "      <td>3963ef52df4b1e445148010e5c5ce5206ca795e32ceb1e...</td>\n",
       "      <td>3963ef52df4b1e445148010e5c5ce5206ca795e32ceb1e...</td>\n",
       "      <td>2686</td>\n",
       "      <td>1</td>\n",
       "      <td>671</td>\n",
       "      <td>1</td>\n",
       "      <td>2023-02-15</td>\n",
       "      <td>671</td>\n",
       "      <td>0</td>\n",
       "      <td>-14</td>\n",
       "      <td>NÃO</td>\n",
       "      <td>0</td>\n",
       "      <td>0</td>\n",
       "      <td>1</td>\n",
       "    </tr>\n",
       "    <tr>\n",
       "      <th>1864718</th>\n",
       "      <td>852</td>\n",
       "      <td>1</td>\n",
       "      <td>d6bd6b18a4384e2bee35d512533d1e90d6d40953b405c8...</td>\n",
       "      <td>541d9e89fcbd48ed2be6049a23f8cffbf4b492adea1c43...</td>\n",
       "      <td>2b1d6b2a1ac0e81d4688e25dccf342dc172f09dec930ad...</td>\n",
       "      <td>3963ef52df4b1e445148010e5c5ce5206ca795e32ceb1e...</td>\n",
       "      <td>3963ef52df4b1e445148010e5c5ce5206ca795e32ceb1e...</td>\n",
       "      <td>3410</td>\n",
       "      <td>1</td>\n",
       "      <td>852</td>\n",
       "      <td>1</td>\n",
       "      <td>2023-02-15</td>\n",
       "      <td>852</td>\n",
       "      <td>0</td>\n",
       "      <td>-48</td>\n",
       "      <td>NÃO</td>\n",
       "      <td>0</td>\n",
       "      <td>0</td>\n",
       "      <td>1</td>\n",
       "    </tr>\n",
       "    <tr>\n",
       "      <th>1864719</th>\n",
       "      <td>476</td>\n",
       "      <td>1</td>\n",
       "      <td>d6bd6b18a4384e2bee35d512533d1e90d6d40953b405c8...</td>\n",
       "      <td>541d9e89fcbd48ed2be6049a23f8cffbf4b492adea1c43...</td>\n",
       "      <td>2b1d6b2a1ac0e81d4688e25dccf342dc172f09dec930ad...</td>\n",
       "      <td>3963ef52df4b1e445148010e5c5ce5206ca795e32ceb1e...</td>\n",
       "      <td>3963ef52df4b1e445148010e5c5ce5206ca795e32ceb1e...</td>\n",
       "      <td>1905</td>\n",
       "      <td>1</td>\n",
       "      <td>476</td>\n",
       "      <td>1</td>\n",
       "      <td>2023-02-15</td>\n",
       "      <td>476</td>\n",
       "      <td>0</td>\n",
       "      <td>-77</td>\n",
       "      <td>NÃO</td>\n",
       "      <td>0</td>\n",
       "      <td>0</td>\n",
       "      <td>1</td>\n",
       "    </tr>\n",
       "    <tr>\n",
       "      <th>1864720</th>\n",
       "      <td>250</td>\n",
       "      <td>1</td>\n",
       "      <td>d6bd6b18a4384e2bee35d512533d1e90d6d40953b405c8...</td>\n",
       "      <td>541d9e89fcbd48ed2be6049a23f8cffbf4b492adea1c43...</td>\n",
       "      <td>2b1d6b2a1ac0e81d4688e25dccf342dc172f09dec930ad...</td>\n",
       "      <td>3963ef52df4b1e445148010e5c5ce5206ca795e32ceb1e...</td>\n",
       "      <td>3963ef52df4b1e445148010e5c5ce5206ca795e32ceb1e...</td>\n",
       "      <td>1000</td>\n",
       "      <td>1</td>\n",
       "      <td>250</td>\n",
       "      <td>1</td>\n",
       "      <td>2023-02-15</td>\n",
       "      <td>250</td>\n",
       "      <td>0</td>\n",
       "      <td>-133</td>\n",
       "      <td>NÃO</td>\n",
       "      <td>0</td>\n",
       "      <td>0</td>\n",
       "      <td>1</td>\n",
       "    </tr>\n",
       "    <tr>\n",
       "      <th>1864721</th>\n",
       "      <td>250</td>\n",
       "      <td>1</td>\n",
       "      <td>d6bd6b18a4384e2bee35d512533d1e90d6d40953b405c8...</td>\n",
       "      <td>541d9e89fcbd48ed2be6049a23f8cffbf4b492adea1c43...</td>\n",
       "      <td>2b1d6b2a1ac0e81d4688e25dccf342dc172f09dec930ad...</td>\n",
       "      <td>3963ef52df4b1e445148010e5c5ce5206ca795e32ceb1e...</td>\n",
       "      <td>3963ef52df4b1e445148010e5c5ce5206ca795e32ceb1e...</td>\n",
       "      <td>1000</td>\n",
       "      <td>1</td>\n",
       "      <td>250</td>\n",
       "      <td>1</td>\n",
       "      <td>2023-02-15</td>\n",
       "      <td>250</td>\n",
       "      <td>0</td>\n",
       "      <td>-140</td>\n",
       "      <td>NÃO</td>\n",
       "      <td>0</td>\n",
       "      <td>0</td>\n",
       "      <td>1</td>\n",
       "    </tr>\n",
       "  </tbody>\n",
       "</table>\n",
       "<p>1864722 rows × 19 columns</p>\n",
       "</div>"
      ],
      "text/plain": [
       "         VlReceitaEsperada  NrParcelas  \\\n",
       "0                        0           1   \n",
       "1                      528           1   \n",
       "2                       66           1   \n",
       "3                      818           1   \n",
       "4                      188          10   \n",
       "...                    ...         ...   \n",
       "1864717                671           1   \n",
       "1864718                852           1   \n",
       "1864719                476           1   \n",
       "1864720                250           1   \n",
       "1864721                250           1   \n",
       "\n",
       "                                                 NmProduto  \\\n",
       "0        9cdafbed10c0d51c62c70109841e569900f978bb7524ef...   \n",
       "1        c68cb6c1bac51b9b18fe707b35d142a54e67f06780c358...   \n",
       "2        f22e67f434917d011b2a3f8463d63bdf4acf6ddd14840b...   \n",
       "3        f22e67f434917d011b2a3f8463d63bdf4acf6ddd14840b...   \n",
       "4        0c4302ab1690d261d113a63cb27c17d6e4c04edb378b5b...   \n",
       "...                                                    ...   \n",
       "1864717  d6bd6b18a4384e2bee35d512533d1e90d6d40953b405c8...   \n",
       "1864718  d6bd6b18a4384e2bee35d512533d1e90d6d40953b405c8...   \n",
       "1864719  d6bd6b18a4384e2bee35d512533d1e90d6d40953b405c8...   \n",
       "1864720  d6bd6b18a4384e2bee35d512533d1e90d6d40953b405c8...   \n",
       "1864721  d6bd6b18a4384e2bee35d512533d1e90d6d40953b405c8...   \n",
       "\n",
       "                                              GrupoProduto  \\\n",
       "0        54eb3384177a6f1bce36ebf478c32787a128b43144b901...   \n",
       "1        243f77a913aad6b64b4c73b481c94fce10c1554fbe86d1...   \n",
       "2        0048e821bb69ffdcd8f340d7d83aaefadea6b47377089b...   \n",
       "3        0048e821bb69ffdcd8f340d7d83aaefadea6b47377089b...   \n",
       "4        541d9e89fcbd48ed2be6049a23f8cffbf4b492adea1c43...   \n",
       "...                                                    ...   \n",
       "1864717  541d9e89fcbd48ed2be6049a23f8cffbf4b492adea1c43...   \n",
       "1864718  541d9e89fcbd48ed2be6049a23f8cffbf4b492adea1c43...   \n",
       "1864719  541d9e89fcbd48ed2be6049a23f8cffbf4b492adea1c43...   \n",
       "1864720  541d9e89fcbd48ed2be6049a23f8cffbf4b492adea1c43...   \n",
       "1864721  541d9e89fcbd48ed2be6049a23f8cffbf4b492adea1c43...   \n",
       "\n",
       "                                     NOME_SEGURADORA_FINAL  \\\n",
       "0        7a86589d1624833154c067fdf8379eca1c7de984bba0c3...   \n",
       "1        ce7112b1bb7af451acc6c360998019acfde75d2dcb1527...   \n",
       "2        ce7112b1bb7af451acc6c360998019acfde75d2dcb1527...   \n",
       "3        ce7112b1bb7af451acc6c360998019acfde75d2dcb1527...   \n",
       "4        4e853eb76e10d2c328bd3d1090b9226000be2e4e2688cf...   \n",
       "...                                                    ...   \n",
       "1864717  2b1d6b2a1ac0e81d4688e25dccf342dc172f09dec930ad...   \n",
       "1864718  2b1d6b2a1ac0e81d4688e25dccf342dc172f09dec930ad...   \n",
       "1864719  2b1d6b2a1ac0e81d4688e25dccf342dc172f09dec930ad...   \n",
       "1864720  2b1d6b2a1ac0e81d4688e25dccf342dc172f09dec930ad...   \n",
       "1864721  2b1d6b2a1ac0e81d4688e25dccf342dc172f09dec930ad...   \n",
       "\n",
       "                                                 NmTomador  \\\n",
       "0        dc937b59892604f5a86ac96936cd7ff09e25f18ae6b758...   \n",
       "1        7b0c6f6a92137fc18c4accdaf9dc8eb1b7d105496a126e...   \n",
       "2        418fe50aa1ba9b6660f2afa031b6adf31bf7e7e892d43e...   \n",
       "3        9023625c4850288ff84f2dfa62d5bb0a4a6465c82e3c60...   \n",
       "4        d8629d6d970adfc91f2d7ea3c40ae8004883e9df78555f...   \n",
       "...                                                    ...   \n",
       "1864717  3963ef52df4b1e445148010e5c5ce5206ca795e32ceb1e...   \n",
       "1864718  3963ef52df4b1e445148010e5c5ce5206ca795e32ceb1e...   \n",
       "1864719  3963ef52df4b1e445148010e5c5ce5206ca795e32ceb1e...   \n",
       "1864720  3963ef52df4b1e445148010e5c5ce5206ca795e32ceb1e...   \n",
       "1864721  3963ef52df4b1e445148010e5c5ce5206ca795e32ceb1e...   \n",
       "\n",
       "                                            GrupoEconomico  PremioBrutoModDiv  \\\n",
       "0        dc937b59892604f5a86ac96936cd7ff09e25f18ae6b758...               4349   \n",
       "1        e468ad81880f4156af507e2d09f2c6c1746f356460dce0...               2346   \n",
       "2        418fe50aa1ba9b6660f2afa031b6adf31bf7e7e892d43e...                437   \n",
       "3        9023625c4850288ff84f2dfa62d5bb0a4a6465c82e3c60...               5453   \n",
       "4        d8629d6d970adfc91f2d7ea3c40ae8004883e9df78555f...               1878   \n",
       "...                                                    ...                ...   \n",
       "1864717  3963ef52df4b1e445148010e5c5ce5206ca795e32ceb1e...               2686   \n",
       "1864718  3963ef52df4b1e445148010e5c5ce5206ca795e32ceb1e...               3410   \n",
       "1864719  3963ef52df4b1e445148010e5c5ce5206ca795e32ceb1e...               1905   \n",
       "1864720  3963ef52df4b1e445148010e5c5ce5206ca795e32ceb1e...               1000   \n",
       "1864721  3963ef52df4b1e445148010e5c5ce5206ca795e32ceb1e...               1000   \n",
       "\n",
       "         Parcela  ValorParcela  PeriodicidadeMes Data_Receber  VlComissao_co  \\\n",
       "0              1             0                 1   2022-07-25              0   \n",
       "1              1           528                 1   2016-05-26              0   \n",
       "2              1            66                 1   2016-10-01              0   \n",
       "3              1           818                 1   2016-06-13              0   \n",
       "4              2            19                 1   2016-06-13              0   \n",
       "...          ...           ...               ...          ...            ...   \n",
       "1864717        1           671                 1   2023-02-15            671   \n",
       "1864718        1           852                 1   2023-02-15            852   \n",
       "1864719        1           476                 1   2023-02-15            476   \n",
       "1864720        1           250                 1   2023-02-15            250   \n",
       "1864721        1           250                 1   2023-02-15            250   \n",
       "\n",
       "         DifParcela  DifData Esteve_Inadimplente?  Inadimplente_Atual  \\\n",
       "0                 0     -892                  NÃO                   0   \n",
       "1               528    -3143                  NÃO                   0   \n",
       "2                66    -3015                  NÃO                   0   \n",
       "3               818    -3125                  NÃO                   0   \n",
       "4                19    -3125                  NÃO                   0   \n",
       "...             ...      ...                  ...                 ...   \n",
       "1864717           0      -14                  NÃO                   0   \n",
       "1864718           0      -48                  NÃO                   0   \n",
       "1864719           0      -77                  NÃO                   0   \n",
       "1864720           0     -133                  NÃO                   0   \n",
       "1864721           0     -140                  NÃO                   0   \n",
       "\n",
       "         Esteve_Inadimplente?_num  trimestre  \n",
       "0                               0          3  \n",
       "1                               0          2  \n",
       "2                               0          4  \n",
       "3                               0          2  \n",
       "4                               0          2  \n",
       "...                           ...        ...  \n",
       "1864717                         0          1  \n",
       "1864718                         0          1  \n",
       "1864719                         0          1  \n",
       "1864720                         0          1  \n",
       "1864721                         0          1  \n",
       "\n",
       "[1864722 rows x 19 columns]"
      ]
     },
     "execution_count": 45,
     "metadata": {},
     "output_type": "execute_result"
    }
   ],
   "source": [
    "pd.read_csv(r'~\\Desktop\\tcc_mba_icmc\\data\\data_curated.csv')"
   ]
  },
  {
   "cell_type": "markdown",
   "metadata": {},
   "source": [
    "# Análise"
   ]
  },
  {
   "cell_type": "markdown",
   "metadata": {},
   "source": [
    "## Visão Geral"
   ]
  },
  {
   "cell_type": "code",
   "execution_count": null,
   "metadata": {},
   "outputs": [],
   "source": [
    "print(\n",
    "    df_sem_canc.groupby('Inadimplente_Atual')['ValorParcela'].sum(), \n",
    "    '\\n', \"-\"*100, '\\n',\n",
    "    df_sem_canc.groupby('Esteve_Inadimplente?')['ValorParcela'].sum()\n",
    "    )"
   ]
  },
  {
   "cell_type": "code",
   "execution_count": null,
   "metadata": {},
   "outputs": [],
   "source": [
    "print(\n",
    "    df_sem_canc.groupby('Inadimplente_Atual')['PremioBrutoModDiv'].sum(), \n",
    "    '\\n', \"-\"*100, '\\n',\n",
    "    df_sem_canc.groupby('Esteve_Inadimplente?')['PremioBrutoModDiv'].sum()\n",
    "    )"
   ]
  },
  {
   "cell_type": "code",
   "execution_count": null,
   "metadata": {},
   "outputs": [],
   "source": [
    "print(\n",
    "    df_sem_canc['Inadimplente_Atual'].value_counts(dropna=False), \n",
    "    '\\n', \"-\"*100, '\\n',\n",
    "    df_sem_canc['Esteve_Inadimplente?'].value_counts()\n",
    "    )"
   ]
  },
  {
   "cell_type": "code",
   "execution_count": null,
   "metadata": {},
   "outputs": [],
   "source": [
    "df['DifData'].apply(lambda x: 'SIM' if x < 0 else 'NÃO').value_counts()\n",
    "\n"
   ]
  },
  {
   "cell_type": "markdown",
   "metadata": {},
   "source": [
    "## Matriz de correlação"
   ]
  },
  {
   "cell_type": "code",
   "execution_count": null,
   "metadata": {},
   "outputs": [],
   "source": [
    "df_sem_canc.info()"
   ]
  },
  {
   "cell_type": "code",
   "execution_count": null,
   "metadata": {},
   "outputs": [],
   "source": [
    "df_num = df_sem_canc.select_dtypes(include=['int32', 'int64'])\n",
    "\n",
    "# Criar a matriz de correlação \n",
    "matriz_correlacao = df_num.corr() \n",
    "# Plotar a matriz de correlação usando o Seaborn \n",
    "plt.figure(figsize=(16, 8)) \n",
    "sns.heatmap(matriz_correlacao, annot=True, cmap='coolwarm', center=0) \n",
    "plt.title('Matriz de Correlação') \n",
    "plt.show()"
   ]
  },
  {
   "cell_type": "code",
   "execution_count": null,
   "metadata": {},
   "outputs": [],
   "source": [
    "# Calcular correlação com a coluna target \n",
    "correlacoes = df_num.corr()['Esteve_Inadimplente?_num'].drop('Esteve_Inadimplente?_num') \n",
    "# Transformar a série de correlações em um DataFrame para visualização \n",
    "matriz_correlacao2 = pd.DataFrame(correlacoes) \n",
    "# Renomear a coluna para clareza \n",
    "matriz_correlacao2.columns = ['correlation_with_target'] \n",
    "plt.figure(figsize=(16, 8)) \n",
    "sns.heatmap(matriz_correlacao2, annot=True, cmap='coolwarm', center=0, vmax=matriz_correlacao2.max().iloc[0], vmin=matriz_correlacao2.min().iloc[0])\n",
    "plt.title('Matriz de Correlação') \n",
    "plt.show()"
   ]
  },
  {
   "cell_type": "code",
   "execution_count": null,
   "metadata": {},
   "outputs": [],
   "source": [
    "matriz_correlacao2.sort_values(ascending=False, by='correlation_with_target')"
   ]
  },
  {
   "cell_type": "markdown",
   "metadata": {},
   "source": [
    "## Análise seguradora"
   ]
  },
  {
   "cell_type": "code",
   "execution_count": null,
   "metadata": {},
   "outputs": [],
   "source": [
    "df_sem_canc.columns"
   ]
  },
  {
   "cell_type": "code",
   "execution_count": null,
   "metadata": {},
   "outputs": [],
   "source": [
    "df_sem_canc[df_sem_canc['Esteve_Inadimplente?'] == 'SIM'].groupby('NOME_SEGURADORA_FINAL')['ValorParcela'].sum().reset_index().sort_values(by='ValorParcela', ascending=False).head()"
   ]
  },
  {
   "cell_type": "code",
   "execution_count": 187,
   "metadata": {},
   "outputs": [],
   "source": [
    "# Agrupar e somar os valores de 'ValorParcela'\n",
    "# df_sem_canc.groupby(['NOME_SEGURADORA_FINAL', 'Esteve_Inadimplente?'])['ValorParcela'].sum().reset_index()\n",
    "seguradoras_maiores_devedoras = df_sem_canc[df_sem_canc['Esteve_Inadimplente?_num'] == 1].groupby(['NOME_SEGURADORA_FINAL', 'Esteve_Inadimplente?'])['ValorParcela'].sum().reset_index().sort_values(by='ValorParcela', ascending=False).head(10)\n"
   ]
  },
  {
   "cell_type": "code",
   "execution_count": null,
   "metadata": {},
   "outputs": [],
   "source": [
    "df_sem_canc[df_sem_canc['NOME_SEGURADORA_FINAL'].isin(seguradoras_maiores_devedoras['NOME_SEGURADORA_FINAL'][0::])].groupby(['NOME_SEGURADORA_FINAL', 'Esteve_Inadimplente?'])['ValorParcela'].sum().reset_index()"
   ]
  },
  {
   "cell_type": "code",
   "execution_count": null,
   "metadata": {},
   "outputs": [],
   "source": [
    "for i in df_agrupado['NOME_SEGURADORA_FINAL'].unique()[0::]:\n",
    "    print(i)\n"
   ]
  },
  {
   "cell_type": "code",
   "execution_count": null,
   "metadata": {},
   "outputs": [],
   "source": []
  },
  {
   "cell_type": "code",
   "execution_count": null,
   "metadata": {},
   "outputs": [],
   "source": [
    "df_agrupado"
   ]
  },
  {
   "cell_type": "code",
   "execution_count": null,
   "metadata": {},
   "outputs": [],
   "source": [
    "# Agrupar e somar os valores de 'ValorParcela' para seguradoras maiores devedoras \n",
    "df_agrupado = (\n",
    "    df_sem_canc[df_sem_canc['NOME_SEGURADORA_FINAL'].isin(seguradoras_maiores_devedoras['NOME_SEGURADORA_FINAL'][0::])]\n",
    "    .groupby(['NOME_SEGURADORA_FINAL', 'Esteve_Inadimplente?'])['ValorParcela']\n",
    "    .sum()\n",
    "    .reset_index() \n",
    ")\n",
    "\n",
    "# Dicionário com os valores \n",
    "hash_dict = {\n",
    "    \"160a3a39ca881569e42065a74c3fb438090044d57f19d50f98dc5574c4acaab3\": 1,\n",
    "    \"228088b037946fe6c4025b8e23f5f01b934561a8c6e441fa950aa8f24513498f\": 2,\n",
    "    \"22ac161e69ac52fde9d8db45a533bcab9eebf3f6c5be36e46c86eaf2f7a62dc2\": 3,\n",
    "    \"4b8fd8ac52c790f571819a8aecc3784b1dd7d31beda6d2ff47a4939561f928c0\": 4,\n",
    "    \"4ef3c8eac2fe13440d323c59d704d51d6f8a5e34ecb55a65c38830d9f110b5bd\": 5,\n",
    "    \"58919c823ea092e0a7d32762a06d4bb7a6f369487761f0d30ac16784479a1917\": 6,\n",
    "    \"9a704773a99578a4cb7c8d7fd43421921eb6db0967bf6c0d97c49d4432d04078\": 7,\n",
    "    \"c9c800b059d082d0d51e221848821313a76bf3d25dc538cc90cb77bdd84b83d4\": 8,\n",
    "    \"ce7112b1bb7af451acc6c360998019acfde75d2dcb1527ec32c40605975bcd6e\": 9,\n",
    "    \"eece1c4069d46119e73246c56fe3ffadf350638f31276fcf2080cac414743141\": 10\n",
    "}\n",
    "\n",
    "# Adicionar a coluna 'numero' ao DataFrame df_agrupado \n",
    "df_agrupado['numero'] = df_agrupado['NOME_SEGURADORA_FINAL'].map(hash_dict)\n",
    "\n",
    "# Criar o gráfico de barras usando Seaborn \n",
    "plt.figure(figsize=(10, 6)) \n",
    "sns.barplot(data=df_agrupado, x='numero', y='ValorParcela', hue='Esteve_Inadimplente?') \n",
    "plt.title('Soma de ValorParcela por Seguradora e Status de Inadimplência') \n",
    "plt.xlabel('Seguradora') \n",
    "plt.ylabel('Soma de ValorParcela') \n",
    "plt.legend(title='Esteve Inadimplente?') \n",
    "plt.show()"
   ]
  },
  {
   "cell_type": "code",
   "execution_count": null,
   "metadata": {},
   "outputs": [],
   "source": [
    "# Calcular o total de ValorParcela por seguradora\n",
    "total_por_seguradora = df_sem_canc.groupby('NOME_SEGURADORA_FINAL')['ValorParcela'].sum()\n",
    "\n",
    "# Calcular o total de ValorParcela onde Esteve_Inadimplente? é 'SIM' por seguradora\n",
    "total_sim_por_seguradora = df_sem_canc[df_sem_canc['Esteve_Inadimplente?'] == 'SIM'].groupby('NOME_SEGURADORA_FINAL')['ValorParcela'].sum()\n",
    "\n",
    "# Calcular a taxa de inadimplência por seguradora\n",
    "taxa_de_inadimplencia = (total_sim_por_seguradora / total_por_seguradora).fillna(0)\n",
    "\n",
    "# Adicionar a coluna taxa_de_inadimplencia ao DataFrame\n",
    "df_agrupado = df_agrupado.merge(taxa_de_inadimplencia.rename('taxa_de_inadimplencia'), on='NOME_SEGURADORA_FINAL', how='left', suffixes=('', '_drop')).filter(regex='^(?!.*_drop)')\n",
    "\n",
    "df_agrupado['taxa_de_inadimplencia'] = df_agrupado['taxa_de_inadimplencia'].round(2)\n",
    "df_agrupado"
   ]
  },
  {
   "cell_type": "code",
   "execution_count": null,
   "metadata": {},
   "outputs": [],
   "source": [
    "df_agrupado['taxa_de_inadimplencia'].sort_values(ascending=False)"
   ]
  },
  {
   "cell_type": "code",
   "execution_count": null,
   "metadata": {},
   "outputs": [],
   "source": [
    "plt.figure(figsize=(10, 6)) \n",
    "ax = sns.barplot(data=df_agrupado, x='numero', y='taxa_de_inadimplencia') \n",
    "ax.bar_label(ax.containers[0])\n",
    "plt.title('Soma de ValorParcela por Seguradora e Status de Inadimplência') \n",
    "plt.xlabel('Seguradora') \n",
    "plt.ylabel('Soma de ValorParcela') \n",
    "plt.legend(title='Esteve Inadimplente?') \n",
    "plt.show()\n",
    "\n"
   ]
  },
  {
   "cell_type": "code",
   "execution_count": null,
   "metadata": {},
   "outputs": [],
   "source": [
    "df_sem_canc['NOME_SEGURADORA_FINAL'].nunique()"
   ]
  },
  {
   "cell_type": "markdown",
   "metadata": {},
   "source": []
  },
  {
   "cell_type": "markdown",
   "metadata": {},
   "source": [
    "## Análise Tomador"
   ]
  },
  {
   "cell_type": "markdown",
   "metadata": {},
   "source": [
    "## Análise Parcelas"
   ]
  },
  {
   "cell_type": "markdown",
   "metadata": {},
   "source": [
    "## Matriz correlação"
   ]
  },
  {
   "cell_type": "code",
   "execution_count": null,
   "metadata": {},
   "outputs": [],
   "source": []
  }
 ],
 "metadata": {
  "kernelspec": {
   "display_name": "Python 3",
   "language": "python",
   "name": "python3"
  },
  "language_info": {
   "codemirror_mode": {
    "name": "ipython",
    "version": 3
   },
   "file_extension": ".py",
   "mimetype": "text/x-python",
   "name": "python",
   "nbconvert_exporter": "python",
   "pygments_lexer": "ipython3",
   "version": "3.12.8"
  }
 },
 "nbformat": 4,
 "nbformat_minor": 2
}
